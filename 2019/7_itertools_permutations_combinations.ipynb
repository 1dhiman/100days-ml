{
  "nbformat": 4,
  "nbformat_minor": 0,
  "metadata": {
    "colab": {
      "name": "7_itertools_permutations_combinations.ipynb",
      "provenance": [],
      "include_colab_link": true
    },
    "kernelspec": {
      "name": "python3",
      "display_name": "Python 3"
    }
  },
  "cells": [
    {
      "cell_type": "markdown",
      "metadata": {
        "id": "view-in-github",
        "colab_type": "text"
      },
      "source": [
        "<a href=\"https://colab.research.google.com/github/1dhiman/100days-ml/blob/master/2019/7_itertools_permutations_combinations.ipynb\" target=\"_parent\"><img src=\"https://colab.research.google.com/assets/colab-badge.svg\" alt=\"Open In Colab\"/></a>"
      ]
    },
    {
      "cell_type": "code",
      "metadata": {
        "id": "TWhrhEzeZf4L",
        "colab_type": "code",
        "colab": {}
      },
      "source": [
        "from itertools import permutations, combinations, combinations_with_replacement"
      ],
      "execution_count": 0,
      "outputs": []
    },
    {
      "cell_type": "code",
      "metadata": {
        "id": "m7_C3LiVQsBr",
        "colab_type": "code",
        "colab": {}
      },
      "source": [
        "letters = ['a', 'b', 'c', 'a']"
      ],
      "execution_count": 0,
      "outputs": []
    },
    {
      "cell_type": "code",
      "metadata": {
        "id": "jPDv5H3DQw3P",
        "colab_type": "code",
        "colab": {
          "base_uri": "https://localhost:8080/",
          "height": 425
        },
        "outputId": "a66a7dc7-11ee-413c-f8f7-5e20ea4caeef"
      },
      "source": [
        "y = list(permutations(letters))\n",
        "y"
      ],
      "execution_count": 18,
      "outputs": [
        {
          "output_type": "execute_result",
          "data": {
            "text/plain": [
              "[('a', 'b', 'c', 'a'),\n",
              " ('a', 'b', 'a', 'c'),\n",
              " ('a', 'c', 'b', 'a'),\n",
              " ('a', 'c', 'a', 'b'),\n",
              " ('a', 'a', 'b', 'c'),\n",
              " ('a', 'a', 'c', 'b'),\n",
              " ('b', 'a', 'c', 'a'),\n",
              " ('b', 'a', 'a', 'c'),\n",
              " ('b', 'c', 'a', 'a'),\n",
              " ('b', 'c', 'a', 'a'),\n",
              " ('b', 'a', 'a', 'c'),\n",
              " ('b', 'a', 'c', 'a'),\n",
              " ('c', 'a', 'b', 'a'),\n",
              " ('c', 'a', 'a', 'b'),\n",
              " ('c', 'b', 'a', 'a'),\n",
              " ('c', 'b', 'a', 'a'),\n",
              " ('c', 'a', 'a', 'b'),\n",
              " ('c', 'a', 'b', 'a'),\n",
              " ('a', 'a', 'b', 'c'),\n",
              " ('a', 'a', 'c', 'b'),\n",
              " ('a', 'b', 'a', 'c'),\n",
              " ('a', 'b', 'c', 'a'),\n",
              " ('a', 'c', 'a', 'b'),\n",
              " ('a', 'c', 'b', 'a')]"
            ]
          },
          "metadata": {
            "tags": []
          },
          "execution_count": 18
        }
      ]
    },
    {
      "cell_type": "code",
      "metadata": {
        "id": "sJ4UN8hhQ2sY",
        "colab_type": "code",
        "colab": {
          "base_uri": "https://localhost:8080/",
          "height": 34
        },
        "outputId": "68253ec7-b0f0-4f71-f8b0-b38f6f173aaa"
      },
      "source": [
        "len(y)"
      ],
      "execution_count": 19,
      "outputs": [
        {
          "output_type": "execute_result",
          "data": {
            "text/plain": [
              "24"
            ]
          },
          "metadata": {
            "tags": []
          },
          "execution_count": 19
        }
      ]
    },
    {
      "cell_type": "code",
      "metadata": {
        "id": "3KCJPs2EQ43V",
        "colab_type": "code",
        "colab": {
          "base_uri": "https://localhost:8080/",
          "height": 34
        },
        "outputId": "703e5324-1d58-4146-e5a0-039f3a558913"
      },
      "source": [
        "4 * 3 * 2 * 1"
      ],
      "execution_count": 20,
      "outputs": [
        {
          "output_type": "execute_result",
          "data": {
            "text/plain": [
              "24"
            ]
          },
          "metadata": {
            "tags": []
          },
          "execution_count": 20
        }
      ]
    },
    {
      "cell_type": "code",
      "metadata": {
        "id": "-VtgZ2eUQ_bN",
        "colab_type": "code",
        "colab": {
          "base_uri": "https://localhost:8080/",
          "height": 221
        },
        "outputId": "9775aec6-975f-44ac-a9c7-3c4f4cf78752"
      },
      "source": [
        "list(permutations(letters, 2))"
      ],
      "execution_count": 21,
      "outputs": [
        {
          "output_type": "execute_result",
          "data": {
            "text/plain": [
              "[('a', 'b'),\n",
              " ('a', 'c'),\n",
              " ('a', 'a'),\n",
              " ('b', 'a'),\n",
              " ('b', 'c'),\n",
              " ('b', 'a'),\n",
              " ('c', 'a'),\n",
              " ('c', 'b'),\n",
              " ('c', 'a'),\n",
              " ('a', 'a'),\n",
              " ('a', 'b'),\n",
              " ('a', 'c')]"
            ]
          },
          "metadata": {
            "tags": []
          },
          "execution_count": 21
        }
      ]
    },
    {
      "cell_type": "code",
      "metadata": {
        "id": "Y3YcUFbYRFGt",
        "colab_type": "code",
        "colab": {
          "base_uri": "https://localhost:8080/",
          "height": 34
        },
        "outputId": "1344a2fd-0bca-4012-e0ce-18c3542b3724"
      },
      "source": [
        "len(list(permutations(letters, 2)))"
      ],
      "execution_count": 22,
      "outputs": [
        {
          "output_type": "execute_result",
          "data": {
            "text/plain": [
              "12"
            ]
          },
          "metadata": {
            "tags": []
          },
          "execution_count": 22
        }
      ]
    },
    {
      "cell_type": "code",
      "metadata": {
        "id": "v5Dwv23GRMRb",
        "colab_type": "code",
        "colab": {
          "base_uri": "https://localhost:8080/",
          "height": 54
        },
        "outputId": "cd7b1f32-6c84-4271-f7ff-1e38b6f2a08d"
      },
      "source": [
        "# combinations (order doesnt matter)\n",
        "\n",
        "list(combinations(letters, 2))"
      ],
      "execution_count": 23,
      "outputs": [
        {
          "output_type": "execute_result",
          "data": {
            "text/plain": [
              "[('a', 'b'), ('a', 'c'), ('a', 'a'), ('b', 'c'), ('b', 'a'), ('c', 'a')]"
            ]
          },
          "metadata": {
            "tags": []
          },
          "execution_count": 23
        }
      ]
    },
    {
      "cell_type": "code",
      "metadata": {
        "id": "wwwbkixpRfWQ",
        "colab_type": "code",
        "colab": {
          "base_uri": "https://localhost:8080/",
          "height": 187
        },
        "outputId": "b764f156-b938-4536-e4d0-f64cead6bf64"
      },
      "source": [
        "list(combinations_with_replacement(letters, 2))"
      ],
      "execution_count": 24,
      "outputs": [
        {
          "output_type": "execute_result",
          "data": {
            "text/plain": [
              "[('a', 'a'),\n",
              " ('a', 'b'),\n",
              " ('a', 'c'),\n",
              " ('a', 'a'),\n",
              " ('b', 'b'),\n",
              " ('b', 'c'),\n",
              " ('b', 'a'),\n",
              " ('c', 'c'),\n",
              " ('c', 'a'),\n",
              " ('a', 'a')]"
            ]
          },
          "metadata": {
            "tags": []
          },
          "execution_count": 24
        }
      ]
    },
    {
      "cell_type": "code",
      "metadata": {
        "id": "IpXIAigcRnDM",
        "colab_type": "code",
        "colab": {}
      },
      "source": [
        ""
      ],
      "execution_count": 0,
      "outputs": []
    }
  ]
}