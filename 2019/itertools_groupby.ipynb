{
  "nbformat": 4,
  "nbformat_minor": 0,
  "metadata": {
    "colab": {
      "name": "itertools_groupby.ipynb",
      "provenance": [],
      "include_colab_link": true
    },
    "kernelspec": {
      "name": "python3",
      "display_name": "Python 3"
    }
  },
  "cells": [
    {
      "cell_type": "markdown",
      "metadata": {
        "id": "view-in-github",
        "colab_type": "text"
      },
      "source": [
        "<a href=\"https://colab.research.google.com/github/1dhiman/100days-ml/blob/master/2019/itertools_groupby.ipynb\" target=\"_parent\"><img src=\"https://colab.research.google.com/assets/colab-badge.svg\" alt=\"Open In Colab\"/></a>"
      ]
    },
    {
      "cell_type": "markdown",
      "metadata": {
        "id": "89YrmNADBTps",
        "colab_type": "text"
      },
      "source": [
        "# `groupby`"
      ]
    },
    {
      "cell_type": "code",
      "metadata": {
        "id": "1rMrrGwjBNTz",
        "colab_type": "code",
        "colab": {}
      },
      "source": [
        "from itertools import groupby\n",
        "import string\n",
        "import random"
      ],
      "execution_count": 0,
      "outputs": []
    },
    {
      "cell_type": "code",
      "metadata": {
        "id": "ZjQlhNQyHEGj",
        "colab_type": "code",
        "colab": {}
      },
      "source": [
        "x = random.choices(string.ascii_lowercase, k=20)\n",
        "x = sorted(x)"
      ],
      "execution_count": 0,
      "outputs": []
    },
    {
      "cell_type": "code",
      "metadata": {
        "id": "Z5vFCAFvHLoD",
        "colab_type": "code",
        "colab": {
          "base_uri": "https://localhost:8080/",
          "height": 357
        },
        "outputId": "4d8c2a78-30d0-496c-a9da-fc8d035986ee"
      },
      "source": [
        "x"
      ],
      "execution_count": 18,
      "outputs": [
        {
          "output_type": "execute_result",
          "data": {
            "text/plain": [
              "['d',\n",
              " 'e',\n",
              " 'f',\n",
              " 'g',\n",
              " 'j',\n",
              " 'k',\n",
              " 'k',\n",
              " 'k',\n",
              " 'k',\n",
              " 'l',\n",
              " 'o',\n",
              " 'o',\n",
              " 'p',\n",
              " 'u',\n",
              " 'v',\n",
              " 'x',\n",
              " 'x',\n",
              " 'y',\n",
              " 'y',\n",
              " 'z']"
            ]
          },
          "metadata": {
            "tags": []
          },
          "execution_count": 18
        }
      ]
    },
    {
      "cell_type": "markdown",
      "metadata": {
        "id": "dFLIT6JTHiSh",
        "colab_type": "text"
      },
      "source": [
        "group consecutive items together that are of the same occurance\n",
        "\n",
        "that is why need to **sort first**"
      ]
    },
    {
      "cell_type": "code",
      "metadata": {
        "id": "7I0tspFAHMFR",
        "colab_type": "code",
        "colab": {
          "base_uri": "https://localhost:8080/",
          "height": 34
        },
        "outputId": "1abdc820-0813-4575-b970-b31e3e6aab74"
      },
      "source": [
        "groupby(x)"
      ],
      "execution_count": 19,
      "outputs": [
        {
          "output_type": "execute_result",
          "data": {
            "text/plain": [
              "<itertools.groupby at 0x7f55777389f8>"
            ]
          },
          "metadata": {
            "tags": []
          },
          "execution_count": 19
        }
      ]
    },
    {
      "cell_type": "code",
      "metadata": {
        "id": "odVNecb5HSoa",
        "colab_type": "code",
        "colab": {
          "base_uri": "https://localhost:8080/",
          "height": 255
        },
        "outputId": "64627998-d433-447a-8d32-f284706546a4"
      },
      "source": [
        "for key, group in (groupby(x)):\n",
        "  print(f\"key: {key}, group: {list(group)}\")\n",
        "  "
      ],
      "execution_count": 20,
      "outputs": [
        {
          "output_type": "stream",
          "text": [
            "key: d, group: ['d']\n",
            "key: e, group: ['e']\n",
            "key: f, group: ['f']\n",
            "key: g, group: ['g']\n",
            "key: j, group: ['j']\n",
            "key: k, group: ['k', 'k', 'k', 'k']\n",
            "key: l, group: ['l']\n",
            "key: o, group: ['o', 'o']\n",
            "key: p, group: ['p']\n",
            "key: u, group: ['u']\n",
            "key: v, group: ['v']\n",
            "key: x, group: ['x', 'x']\n",
            "key: y, group: ['y', 'y']\n",
            "key: z, group: ['z']\n"
          ],
          "name": "stdout"
        }
      ]
    },
    {
      "cell_type": "markdown",
      "metadata": {
        "id": "LI3MFto9I4R8",
        "colab_type": "text"
      },
      "source": [
        "#### tuples"
      ]
    },
    {
      "cell_type": "code",
      "metadata": {
        "id": "hsQSASsaHS5S",
        "colab_type": "code",
        "colab": {
          "base_uri": "https://localhost:8080/",
          "height": 136
        },
        "outputId": "5fe2e308-5894-4321-9fca-29afab8d44e8"
      },
      "source": [
        "data = [\n",
        "    (\"11013331\", \"KAT\"),\n",
        "    (\"9085267\", \"NOT\"),\n",
        "    (\"5238761\", \"ETH\"),\n",
        "    (\"5349618\", \"ETH\"),\n",
        "    (\"11788544\", \"NOT\"),\n",
        "    (\"962142\", \"ETH\"),\n",
        "    (\"7795297\", \"ETH\"),\n",
        "]\n",
        "\n",
        "data = sorted(data, key= lambda x: x[1])\n",
        "data"
      ],
      "execution_count": 26,
      "outputs": [
        {
          "output_type": "execute_result",
          "data": {
            "text/plain": [
              "[('5238761', 'ETH'),\n",
              " ('5349618', 'ETH'),\n",
              " ('962142', 'ETH'),\n",
              " ('7795297', 'ETH'),\n",
              " ('11013331', 'KAT'),\n",
              " ('9085267', 'NOT'),\n",
              " ('11788544', 'NOT')]"
            ]
          },
          "metadata": {
            "tags": []
          },
          "execution_count": 26
        }
      ]
    },
    {
      "cell_type": "code",
      "metadata": {
        "id": "WT0h2UzTJvSa",
        "colab_type": "code",
        "colab": {
          "base_uri": "https://localhost:8080/",
          "height": 139
        },
        "outputId": "5dee2a88-a516-45df-be01-b61c09c523ea"
      },
      "source": [
        "for key, group in (groupby(data, key=lambda x: x[1])):\n",
        "  print(f\"key: {key}, group: {list(group)} \\n\")\n",
        "  "
      ],
      "execution_count": 27,
      "outputs": [
        {
          "output_type": "stream",
          "text": [
            "key: ETH, group: [('5238761', 'ETH'), ('5349618', 'ETH'), ('962142', 'ETH'), ('7795297', 'ETH')] \n",
            "\n",
            "key: KAT, group: [('11013331', 'KAT')] \n",
            "\n",
            "key: NOT, group: [('9085267', 'NOT'), ('11788544', 'NOT')] \n",
            "\n"
          ],
          "name": "stdout"
        }
      ]
    },
    {
      "cell_type": "markdown",
      "metadata": {
        "id": "C3SncMp3KnqQ",
        "colab_type": "text"
      },
      "source": [
        "groupby odds and evens"
      ]
    },
    {
      "cell_type": "code",
      "metadata": {
        "id": "tg3bhNTyKDnN",
        "colab_type": "code",
        "colab": {}
      },
      "source": [
        "def check_even(n):\n",
        "  if n%2 == 0:\n",
        "    return \"even\"\n",
        "  else:\n",
        "    return \"odd\"\n",
        "  \n",
        "def grouper(iterable):\n",
        "  iterable = sorted(iterable, key = check_even)\n",
        "  print(iterable)\n",
        "  grouped = groupby(iterable, check_even)\n",
        "  for key, group in grouped:\n",
        "    print(f\"key: {key}, group: {list(group)}\")"
      ],
      "execution_count": 0,
      "outputs": []
    },
    {
      "cell_type": "code",
      "metadata": {
        "id": "cT3G-dPILM19",
        "colab_type": "code",
        "colab": {
          "base_uri": "https://localhost:8080/",
          "height": 34
        },
        "outputId": "ff7cf6c5-1cb1-40bc-d942-8029042fab73"
      },
      "source": [
        "import random\n",
        "x = random.sample(list(range(1, 50)), 3)\n",
        "x"
      ],
      "execution_count": 31,
      "outputs": [
        {
          "output_type": "execute_result",
          "data": {
            "text/plain": [
              "[13, 48, 21]"
            ]
          },
          "metadata": {
            "tags": []
          },
          "execution_count": 31
        }
      ]
    },
    {
      "cell_type": "code",
      "metadata": {
        "id": "tHVzfMIALs_4",
        "colab_type": "code",
        "colab": {
          "base_uri": "https://localhost:8080/",
          "height": 68
        },
        "outputId": "128ce8b5-a4d1-4f50-b1a0-e9fecf3a95fd"
      },
      "source": [
        "grouper(x)"
      ],
      "execution_count": 32,
      "outputs": [
        {
          "output_type": "stream",
          "text": [
            "[48, 13, 21]\n",
            "key: even, group: [48]\n",
            "key: odd, group: [13, 21]\n"
          ],
          "name": "stdout"
        }
      ]
    },
    {
      "cell_type": "code",
      "metadata": {
        "id": "UpybUcwXLvi7",
        "colab_type": "code",
        "colab": {}
      },
      "source": [
        ""
      ],
      "execution_count": 0,
      "outputs": []
    }
  ]
}