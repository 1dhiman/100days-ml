{
  "nbformat": 4,
  "nbformat_minor": 0,
  "metadata": {
    "colab": {
      "name": "4_Unsupervised_Learning_clustering.ipynb",
      "provenance": [],
      "include_colab_link": true
    },
    "kernelspec": {
      "name": "python3",
      "display_name": "Python 3"
    }
  },
  "cells": [
    {
      "cell_type": "markdown",
      "metadata": {
        "id": "view-in-github",
        "colab_type": "text"
      },
      "source": [
        "<a href=\"https://colab.research.google.com/github/1dhiman/100days-ml/blob/master/2019/4_Unsupervised_Learning_clustering.ipynb\" target=\"_parent\"><img src=\"https://colab.research.google.com/assets/colab-badge.svg\" alt=\"Open In Colab\"/></a>"
      ]
    },
    {
      "cell_type": "code",
      "metadata": {
        "id": "3AjAEq_im24G",
        "colab_type": "code",
        "colab": {
          "base_uri": "https://localhost:8080/",
          "height": 51
        },
        "outputId": "27a6ad76-0a53-42b6-cf42-38304a866179"
      },
      "source": [
        "!pip install fastcluster"
      ],
      "execution_count": 1,
      "outputs": [
        {
          "output_type": "stream",
          "text": [
            "Requirement already satisfied: fastcluster in /usr/local/lib/python3.6/dist-packages (1.1.25)\n",
            "Requirement already satisfied: numpy>=1.9 in /usr/local/lib/python3.6/dist-packages (from fastcluster) (1.16.5)\n"
          ],
          "name": "stdout"
        }
      ]
    },
    {
      "cell_type": "code",
      "metadata": {
        "id": "n7-VGo8UmvdO",
        "colab_type": "code",
        "colab": {}
      },
      "source": [
        "# Import libraries\n",
        "'''Main'''\n",
        "import numpy as np\n",
        "import pandas as pd\n",
        "import os, time\n",
        "import pickle, gzip\n",
        "\n",
        "'''Data Viz'''\n",
        "import matplotlib.pyplot as plt\n",
        "import seaborn as sns\n",
        "color = sns.color_palette()\n",
        "import matplotlib as mpl\n",
        "\n",
        "%matplotlib inline\n",
        "\n",
        "'''Data Prep and Model Evaluation'''\n",
        "from sklearn import preprocessing as pp\n",
        "from sklearn.model_selection import train_test_split \n",
        "from sklearn.metrics import precision_recall_curve, average_precision_score\n",
        "from sklearn.metrics import roc_curve, auc, roc_auc_score\n",
        "\n",
        "'''Algorithms'''\n",
        "from sklearn.decomposition import PCA\n",
        "from sklearn.cluster import KMeans\n",
        "import fastcluster\n",
        "from scipy.cluster.hierarchy import dendrogram, cophenet, fcluster\n",
        "from scipy.spatial.distance import pdist"
      ],
      "execution_count": 0,
      "outputs": []
    },
    {
      "cell_type": "code",
      "metadata": {
        "id": "5V2H_WgCmzrv",
        "colab_type": "code",
        "colab": {}
      },
      "source": [
        "# Load the datasets\n",
        "current_path = os.getcwd()\n",
        "file = 'mnist.pkl.gz'\n",
        "\n",
        "f = gzip.open(file, 'rb')\n",
        "train_set, validation_set, test_set = pickle.load(f, encoding='latin1')\n",
        "f.close()\n",
        "\n",
        "X_train, y_train = train_set[0], train_set[1]\n",
        "X_validation, y_validation = validation_set[0], validation_set[1]\n",
        "X_test, y_test = test_set[0], test_set[1]"
      ],
      "execution_count": 0,
      "outputs": []
    },
    {
      "cell_type": "code",
      "metadata": {
        "id": "Lc_FK2f0vEF-",
        "colab_type": "code",
        "colab": {}
      },
      "source": [
        "# Create Pandas DataFrames from the datasets\n",
        "train_index = range(0,len(X_train))\n",
        "validation_index = range(len(X_train), \\\n",
        "                         len(X_train)+len(X_validation))\n",
        "test_index = range(len(X_train)+len(X_validation), \\\n",
        "                   len(X_train)+len(X_validation)+len(X_test))\n",
        "\n",
        "X_train = pd.DataFrame(data=X_train,index=train_index)\n",
        "y_train = pd.Series(data=y_train,index=train_index)\n",
        "\n",
        "X_validation = pd.DataFrame(data=X_validation,index=validation_index)\n",
        "y_validation = pd.Series(data=y_validation,index=validation_index)\n",
        "\n",
        "X_test = pd.DataFrame(data=X_test,index=test_index)\n",
        "y_test = pd.Series(data=y_test,index=test_index)"
      ],
      "execution_count": 0,
      "outputs": []
    },
    {
      "cell_type": "code",
      "metadata": {
        "id": "b3jR4SIxna7H",
        "colab_type": "code",
        "colab": {}
      },
      "source": [
        "# Principal Component Analysis\n",
        "from sklearn.decomposition import PCA\n",
        "\n",
        "n_components = 784\n",
        "whiten = False\n",
        "random_state = 2018\n",
        "\n",
        "pca = PCA(n_components=n_components, whiten=whiten, \\\n",
        "          random_state=random_state)\n",
        "\n",
        "X_train_PCA = pca.fit_transform(X_train)\n",
        "X_train_PCA = pd.DataFrame(data=X_train_PCA) #, index=train_index)"
      ],
      "execution_count": 0,
      "outputs": []
    },
    {
      "cell_type": "code",
      "metadata": {
        "id": "PgPXeGcundTp",
        "colab_type": "code",
        "colab": {
          "base_uri": "https://localhost:8080/",
          "height": 51
        },
        "outputId": "a3a39311-5743-4357-ba41-64aba89f31c9"
      },
      "source": [
        "%%time \n",
        "\n",
        "# K-means - Inertia as the number of clusters varies\n",
        "from sklearn.cluster import KMeans\n",
        "\n",
        "n_clusters = 10\n",
        "n_init = 10\n",
        "max_iter = 300\n",
        "tol = 0.0001\n",
        "random_state = 2018\n",
        "n_jobs = 2\n",
        "\n",
        "kMeans_inertia = pd.DataFrame(data=[],index=range(2,21), \\\n",
        "                              columns=['inertia'])\n",
        "for n_clusters in range(2,21):\n",
        "    kmeans = KMeans(n_clusters=n_clusters, n_init=n_init, \\\n",
        "                max_iter=max_iter, tol=tol, random_state=random_state, \\\n",
        "                n_jobs=n_jobs)\n",
        "\n",
        "    cutoff = 99\n",
        "    kmeans.fit(X_train_PCA.loc[:,0:cutoff])\n",
        "    kMeans_inertia.loc[n_clusters] = kmeans.inertia_"
      ],
      "execution_count": 6,
      "outputs": [
        {
          "output_type": "stream",
          "text": [
            "CPU times: user 2.81 s, sys: 574 ms, total: 3.38 s\n",
            "Wall time: 5min 9s\n"
          ],
          "name": "stdout"
        }
      ]
    },
    {
      "cell_type": "code",
      "metadata": {
        "id": "7FaXg4v9nuPJ",
        "colab_type": "code",
        "colab": {
          "base_uri": "https://localhost:8080/",
          "height": 269
        },
        "outputId": "7f53e648-f2b1-49fc-c5a5-344b73162e01"
      },
      "source": [
        "kMeans_inertia.plot();"
      ],
      "execution_count": 7,
      "outputs": [
        {
          "output_type": "display_data",
          "data": {
            "image/png": "[encoded data removed]",
            "text/plain": [
              "<Figure size 432x288 with 1 Axes>"
            ]
          },
          "metadata": {
            "tags": []
          }
        }
      ]
    },
    {
      "cell_type": "code",
      "metadata": {
        "id": "Y6VSrGHJnynz",
        "colab_type": "code",
        "colab": {}
      },
      "source": [
        "def analyzeCluster(clusterDF, labelsDF):\n",
        "    countByCluster = \\\n",
        "        pd.DataFrame(data=clusterDF['cluster'].value_counts())\n",
        "    countByCluster.reset_index(inplace=True,drop=False)\n",
        "    countByCluster.columns = ['cluster','clusterCount']\n",
        "        \n",
        "    preds = pd.concat([labelsDF,clusterDF], axis=1)\n",
        "    preds.columns = ['trueLabel','cluster']\n",
        "    \n",
        "    countByLabel = pd.DataFrame(data=preds.groupby('trueLabel').count())\n",
        "        \n",
        "    countMostFreq = \\\n",
        "        pd.DataFrame(data=preds.groupby('cluster').agg( \\\n",
        "                        lambda x:x.value_counts().iloc[0]))\n",
        "    countMostFreq.reset_index(inplace=True,drop=False)\n",
        "    countMostFreq.columns = ['cluster','countMostFrequent']\n",
        "    \n",
        "    accuracyDF = countMostFreq.merge(countByCluster, \\\n",
        "                        left_on=\"cluster\",right_on=\"cluster\")\n",
        "    overallAccuracy = accuracyDF.countMostFrequent.sum()/ \\\n",
        "                        accuracyDF.clusterCount.sum()\n",
        "    \n",
        "    accuracyByLabel = accuracyDF.countMostFrequent/ \\\n",
        "                        accuracyDF.clusterCount\n",
        "    \n",
        "    return countByCluster, countByLabel, countMostFreq, \\\n",
        "            accuracyDF, overallAccuracy, accuracyByLabel"
      ],
      "execution_count": 0,
      "outputs": []
    },
    {
      "cell_type": "code",
      "metadata": {
        "id": "tbfMVlW3vP-b",
        "colab_type": "code",
        "colab": {
          "base_uri": "https://localhost:8080/",
          "height": 51
        },
        "outputId": "7183dc1a-6458-44db-8f3a-8ff2f38678a2"
      },
      "source": [
        "%%time \n",
        "\n",
        "# K-means - Accuracy as the number of clusters varies\n",
        "\n",
        "n_clusters = 5\n",
        "n_init = 10\n",
        "max_iter = 300\n",
        "tol = 0.0001\n",
        "random_state = 2018\n",
        "n_jobs = 2\n",
        "\n",
        "kMeans_inertia = \\\n",
        "    pd.DataFrame(data=[],index=range(2,21),columns=['inertia'])\n",
        "overallAccuracy_kMeansDF = \\\n",
        "    pd.DataFrame(data=[],index=range(2,21),columns=['overallAccuracy'])\n",
        "\n",
        "for n_clusters in range(2,21):\n",
        "    kmeans = KMeans(n_clusters=n_clusters, n_init=n_init, \\\n",
        "                max_iter=max_iter, tol=tol, random_state=random_state, \\\n",
        "                n_jobs=n_jobs)\n",
        "\n",
        "    cutoff = 99\n",
        "    kmeans.fit(X_train_PCA.loc[:,0:cutoff])\n",
        "    kMeans_inertia.loc[n_clusters] = kmeans.inertia_\n",
        "    X_train_kmeansClustered = kmeans.predict(X_train_PCA.loc[:,0:cutoff])\n",
        "    X_train_kmeansClustered = \\\n",
        "        pd.DataFrame(data=X_train_kmeansClustered, index=X_train.index, \\\n",
        "                     columns=['cluster'])\n",
        "    \n",
        "    countByCluster_kMeans, countByLabel_kMeans, countMostFreq_kMeans, \\\n",
        "        accuracyDF_kMeans, overallAccuracy_kMeans, accuracyByLabel_kMeans \\\n",
        "        = analyzeCluster(X_train_kmeansClustered, y_train)\n",
        "    \n",
        "    overallAccuracy_kMeansDF.loc[n_clusters] = overallAccuracy_kMeans"
      ],
      "execution_count": 9,
      "outputs": [
        {
          "output_type": "stream",
          "text": [
            "CPU times: user 5.99 s, sys: 2.32 s, total: 8.31 s\n",
            "Wall time: 5min 14s\n"
          ],
          "name": "stdout"
        }
      ]
    },
    {
      "cell_type": "code",
      "metadata": {
        "id": "bOJdXpajvUAa",
        "colab_type": "code",
        "colab": {
          "base_uri": "https://localhost:8080/",
          "height": 269
        },
        "outputId": "367b8770-034e-41fe-ef0b-7e6b956c6c21"
      },
      "source": [
        "overallAccuracy_kMeansDF.plot();"
      ],
      "execution_count": 10,
      "outputs": [
        {
          "output_type": "display_data",
          "data": {
            "image/png": "[encoded data removed]",
            "text/plain": [
              "<Figure size 432x288 with 1 Axes>"
            ]
          },
          "metadata": {
            "tags": []
          }
        }
      ]
    },
    {
      "cell_type": "code",
      "metadata": {
        "id": "kan_cSPWznmF",
        "colab_type": "code",
        "colab": {
          "base_uri": "https://localhost:8080/",
          "height": 374
        },
        "outputId": "4feff725-9ef3-44fd-d183-4cc449cea870"
      },
      "source": [
        "accuracyByLabel_kMeans"
      ],
      "execution_count": 11,
      "outputs": [
        {
          "output_type": "execute_result",
          "data": {
            "text/plain": [
              "0     0.636506\n",
              "1     0.928505\n",
              "2     0.848714\n",
              "3     0.521805\n",
              "4     0.714337\n",
              "5     0.950980\n",
              "6     0.893103\n",
              "7     0.919040\n",
              "8     0.404707\n",
              "9     0.500522\n",
              "10    0.381526\n",
              "11    0.587680\n",
              "12    0.463382\n",
              "13    0.958046\n",
              "14    0.870888\n",
              "15    0.942325\n",
              "16    0.791192\n",
              "17    0.843972\n",
              "18    0.455679\n",
              "19    0.926480\n",
              "dtype: float64"
            ]
          },
          "metadata": {
            "tags": []
          },
          "execution_count": 11
        }
      ]
    },
    {
      "cell_type": "code",
      "metadata": {
        "id": "N89RtXoFzrgq",
        "colab_type": "code",
        "colab": {
          "base_uri": "https://localhost:8080/",
          "height": 241
        },
        "outputId": "44528f59-236a-44b5-c516-bd5aa3f09dee"
      },
      "source": [
        "%%time \n",
        "\n",
        "# K-means - Accuracy as the number of components varies\n",
        "\n",
        "n_clusters = 20\n",
        "n_init = 10\n",
        "max_iter = 300\n",
        "tol = 0.0001\n",
        "random_state = 2018\n",
        "n_jobs = 2\n",
        "\n",
        "kMeans_inertia = pd.DataFrame(data=[],index=[9, 49, 99, 199, \\\n",
        "                    299, 399, 499, 599, 699, 784],columns=['inertia'])\n",
        "\n",
        "overallAccuracy_kMeansDF = pd.DataFrame(data=[],index=[9, 49, \\\n",
        "                    99, 199, 299, 399, 499, 599, 699, 784], \\\n",
        "                    columns=['overallAccuracy'])\n",
        "\n",
        "for cutoffNumber in [9, 49, 99, 199, 299, 399, 499, 599, 699, 784]:\n",
        "    kmeans = KMeans(n_clusters=n_clusters, n_init=n_init, \\\n",
        "                max_iter=max_iter, tol=tol, random_state=random_state, \\\n",
        "                n_jobs=n_jobs)\n",
        "\n",
        "    cutoff = cutoffNumber\n",
        "    kmeans.fit(X_train_PCA.loc[:,0:cutoff])\n",
        "    kMeans_inertia.loc[cutoff] = kmeans.inertia_\n",
        "    X_train_kmeansClustered = kmeans.predict(X_train_PCA.loc[:,0:cutoff])\n",
        "    X_train_kmeansClustered = pd.DataFrame(data=X_train_kmeansClustered, \\\n",
        "                                index=X_train.index, columns=['cluster'])\n",
        "    \n",
        "    countByCluster_kMeans, countByLabel_kMeans, countMostFreq_kMeans, \\\n",
        "        accuracyDF_kMeans, overallAccuracy_kMeans, accuracyByLabel_kMeans \\\n",
        "        = analyzeCluster(X_train_kmeansClustered, y_train)\n",
        "    \n",
        "    overallAccuracy_kMeansDF.loc[cutoff] = overallAccuracy_kMeans"
      ],
      "execution_count": 12,
      "outputs": [
        {
          "output_type": "stream",
          "text": [
            "/usr/local/lib/python3.6/dist-packages/joblib/externals/loky/process_executor.py:706: UserWarning: A worker stopped while some jobs were given to the executor. This can be caused by a too short worker timeout or by a memory leak.\n",
            "  \"timeout or by a memory leak.\", UserWarning\n",
            "/usr/local/lib/python3.6/dist-packages/joblib/externals/loky/process_executor.py:706: UserWarning: A worker stopped while some jobs were given to the executor. This can be caused by a too short worker timeout or by a memory leak.\n",
            "  \"timeout or by a memory leak.\", UserWarning\n",
            "/usr/local/lib/python3.6/dist-packages/joblib/externals/loky/process_executor.py:706: UserWarning: A worker stopped while some jobs were given to the executor. This can be caused by a too short worker timeout or by a memory leak.\n",
            "  \"timeout or by a memory leak.\", UserWarning\n",
            "/usr/local/lib/python3.6/dist-packages/joblib/externals/loky/process_executor.py:706: UserWarning: A worker stopped while some jobs were given to the executor. This can be caused by a too short worker timeout or by a memory leak.\n",
            "  \"timeout or by a memory leak.\", UserWarning\n",
            "/usr/local/lib/python3.6/dist-packages/joblib/externals/loky/process_executor.py:706: UserWarning: A worker stopped while some jobs were given to the executor. This can be caused by a too short worker timeout or by a memory leak.\n",
            "  \"timeout or by a memory leak.\", UserWarning\n"
          ],
          "name": "stderr"
        },
        {
          "output_type": "stream",
          "text": [
            "CPU times: user 8.33 s, sys: 2.17 s, total: 10.5 s\n",
            "Wall time: 11min 12s\n"
          ],
          "name": "stdout"
        }
      ]
    },
    {
      "cell_type": "code",
      "metadata": {
        "id": "PCEyBCSFzvXv",
        "colab_type": "code",
        "colab": {
          "base_uri": "https://localhost:8080/",
          "height": 269
        },
        "outputId": "fee44ec3-5483-4ede-8a4c-db0e0e3aadca"
      },
      "source": [
        "overallAccuracy_kMeansDF.plot();"
      ],
      "execution_count": 13,
      "outputs": [
        {
          "output_type": "display_data",
          "data": {
            "image/png": "[encoded data removed]",
            "text/plain": [
              "<Figure size 432x288 with 1 Axes>"
            ]
          },
          "metadata": {
            "tags": []
          }
        }
      ]
    },
    {
      "cell_type": "code",
      "metadata": {
        "id": "I6QIAuWmzyo4",
        "colab_type": "code",
        "colab": {
          "base_uri": "https://localhost:8080/",
          "height": 105
        },
        "outputId": "bba7daa9-dbff-4588-8bb2-10179584e3fa"
      },
      "source": [
        "%%time\n",
        "\n",
        "# K-means - Accuracy as the number of components varies\n",
        "# On the original MNIST data (not PCA-reduced)\n",
        "\n",
        "n_clusters = 20\n",
        "n_init = 10\n",
        "max_iter = 300\n",
        "tol = 0.0001\n",
        "random_state = 2018\n",
        "n_jobs = 2\n",
        "\n",
        "kMeans_inertia = pd.DataFrame(data=[],index=[9, 49, 99, 199, \\\n",
        "                    299, 399, 499, 599, 699, 784],columns=['inertia'])\n",
        "\n",
        "overallAccuracy_kMeansDF = pd.DataFrame(data=[],index=[9, 49, \\\n",
        "                    99, 199, 299, 399, 499, 599, 699, 784], \\\n",
        "                    columns=['overallAccuracy'])\n",
        "\n",
        "for cutoffNumber in [9, 49, 99, 199, 299, 399, 499, 599, 699, 784]:\n",
        "    kmeans = KMeans(n_clusters=n_clusters, n_init=n_init, \\\n",
        "                max_iter=max_iter, tol=tol, random_state=random_state, \\\n",
        "                n_jobs=n_jobs)\n",
        "\n",
        "    cutoff = cutoffNumber\n",
        "    kmeans.fit(X_train.loc[:,0:cutoff])\n",
        "    kMeans_inertia.loc[cutoff] = kmeans.inertia_\n",
        "    X_train_kmeansClustered = kmeans.predict(X_train.loc[:,0:cutoff])\n",
        "    X_train_kmeansClustered = pd.DataFrame(data=X_train_kmeansClustered, \\\n",
        "                                index=X_train.index, columns=['cluster'])\n",
        "    \n",
        "    countByCluster_kMeans, countByLabel_kMeans, countMostFreq_kMeans, \\\n",
        "        accuracyDF_kMeans, overallAccuracy_kMeans, accuracyByLabel_kMeans \\\n",
        "        = analyzeCluster(X_train_kmeansClustered, y_train)\n",
        "    \n",
        "    overallAccuracy_kMeansDF.loc[cutoff] = overallAccuracy_kMeans"
      ],
      "execution_count": 14,
      "outputs": [
        {
          "output_type": "stream",
          "text": [
            "/usr/local/lib/python3.6/dist-packages/sklearn/cluster/k_means_.py:972: ConvergenceWarning: Number of distinct clusters (1) found smaller than n_clusters (20). Possibly due to duplicate points in X.\n",
            "  return_n_iter=True)\n"
          ],
          "name": "stderr"
        },
        {
          "output_type": "stream",
          "text": [
            "CPU times: user 7.57 s, sys: 1.86 s, total: 9.43 s\n",
            "Wall time: 11min 58s\n"
          ],
          "name": "stdout"
        }
      ]
    },
    {
      "cell_type": "code",
      "metadata": {
        "id": "ASMbAvFqz2QU",
        "colab_type": "code",
        "colab": {
          "base_uri": "https://localhost:8080/",
          "height": 269
        },
        "outputId": "e8de242f-6e5e-46a3-9eb0-a8ffe14a7c23"
      },
      "source": [
        "overallAccuracy_kMeansDF.plot();"
      ],
      "execution_count": 15,
      "outputs": [
        {
          "output_type": "display_data",
          "data": {
            "image/png": "[encoded data removed]",
            "text/plain": [
              "<Figure size 432x288 with 1 Axes>"
            ]
          },
          "metadata": {
            "tags": []
          }
        }
      ]
    },
    {
      "cell_type": "code",
      "metadata": {
        "id": "f56S6WSnz4tP",
        "colab_type": "code",
        "colab": {
          "base_uri": "https://localhost:8080/",
          "height": 51
        },
        "outputId": "bae7e255-5a81-4dc0-bccc-184f3dde7406"
      },
      "source": [
        "%%time \n",
        "\n",
        "# Hierarchical clustering\n",
        "\n",
        "import fastcluster\n",
        "from scipy.cluster.hierarchy import dendrogram, cophenet\n",
        "from scipy.spatial.distance import pdist\n",
        "\n",
        "cutoff = 99\n",
        "Z = fastcluster.linkage_vector(X_train_PCA.loc[:,0:cutoff], \\\n",
        "                               method='ward', metric='euclidean')\n",
        "Z_dataFrame = pd.DataFrame(data=Z, \\\n",
        "    columns=['clusterOne','clusterTwo','distance','newClusterSize'])"
      ],
      "execution_count": 16,
      "outputs": [
        {
          "output_type": "stream",
          "text": [
            "CPU times: user 8min 16s, sys: 37.9 ms, total: 8min 16s\n",
            "Wall time: 8min 17s\n"
          ],
          "name": "stdout"
        }
      ]
    },
    {
      "cell_type": "code",
      "metadata": {
        "id": "ZilHA6_Bz9Xg",
        "colab_type": "code",
        "colab": {
          "base_uri": "https://localhost:8080/",
          "height": 669
        },
        "outputId": "9fe3d353-af17-42c6-9430-5546b7929e0b"
      },
      "source": [
        "Z_dataFrame.iloc[:20]"
      ],
      "execution_count": 17,
      "outputs": [
        {
          "output_type": "execute_result",
          "data": {
            "text/html": [
              "<div>\n",
              "<style scoped>\n",
              "    .dataframe tbody tr th:only-of-type {\n",
              "        vertical-align: middle;\n",
              "    }\n",
              "\n",
              "    .dataframe tbody tr th {\n",
              "        vertical-align: top;\n",
              "    }\n",
              "\n",
              "    .dataframe thead th {\n",
              "        text-align: right;\n",
              "    }\n",
              "</style>\n",
              "<table border=\"1\" class=\"dataframe\">\n",
              "  <thead>\n",
              "    <tr style=\"text-align: right;\">\n",
              "      <th></th>\n",
              "      <th>clusterOne</th>\n",
              "      <th>clusterTwo</th>\n",
              "      <th>distance</th>\n",
              "      <th>newClusterSize</th>\n",
              "    </tr>\n",
              "  </thead>\n",
              "  <tbody>\n",
              "    <tr>\n",
              "      <th>0</th>\n",
              "      <td>42194.0</td>\n",
              "      <td>43025.0</td>\n",
              "      <td>0.562682</td>\n",
              "      <td>2.0</td>\n",
              "    </tr>\n",
              "    <tr>\n",
              "      <th>1</th>\n",
              "      <td>28350.0</td>\n",
              "      <td>37674.0</td>\n",
              "      <td>0.590866</td>\n",
              "      <td>2.0</td>\n",
              "    </tr>\n",
              "    <tr>\n",
              "      <th>2</th>\n",
              "      <td>26696.0</td>\n",
              "      <td>44705.0</td>\n",
              "      <td>0.621506</td>\n",
              "      <td>2.0</td>\n",
              "    </tr>\n",
              "    <tr>\n",
              "      <th>3</th>\n",
              "      <td>12634.0</td>\n",
              "      <td>32823.0</td>\n",
              "      <td>0.627762</td>\n",
              "      <td>2.0</td>\n",
              "    </tr>\n",
              "    <tr>\n",
              "      <th>4</th>\n",
              "      <td>24707.0</td>\n",
              "      <td>43151.0</td>\n",
              "      <td>0.637668</td>\n",
              "      <td>2.0</td>\n",
              "    </tr>\n",
              "    <tr>\n",
              "      <th>5</th>\n",
              "      <td>20465.0</td>\n",
              "      <td>24483.0</td>\n",
              "      <td>0.662557</td>\n",
              "      <td>2.0</td>\n",
              "    </tr>\n",
              "    <tr>\n",
              "      <th>6</th>\n",
              "      <td>466.0</td>\n",
              "      <td>42098.0</td>\n",
              "      <td>0.664189</td>\n",
              "      <td>2.0</td>\n",
              "    </tr>\n",
              "    <tr>\n",
              "      <th>7</th>\n",
              "      <td>46542.0</td>\n",
              "      <td>49961.0</td>\n",
              "      <td>0.665520</td>\n",
              "      <td>2.0</td>\n",
              "    </tr>\n",
              "    <tr>\n",
              "      <th>8</th>\n",
              "      <td>2301.0</td>\n",
              "      <td>5732.0</td>\n",
              "      <td>0.671215</td>\n",
              "      <td>2.0</td>\n",
              "    </tr>\n",
              "    <tr>\n",
              "      <th>9</th>\n",
              "      <td>37564.0</td>\n",
              "      <td>47668.0</td>\n",
              "      <td>0.675121</td>\n",
              "      <td>2.0</td>\n",
              "    </tr>\n",
              "    <tr>\n",
              "      <th>10</th>\n",
              "      <td>3375.0</td>\n",
              "      <td>26243.0</td>\n",
              "      <td>0.685797</td>\n",
              "      <td>2.0</td>\n",
              "    </tr>\n",
              "    <tr>\n",
              "      <th>11</th>\n",
              "      <td>15722.0</td>\n",
              "      <td>30368.0</td>\n",
              "      <td>0.686356</td>\n",
              "      <td>2.0</td>\n",
              "    </tr>\n",
              "    <tr>\n",
              "      <th>12</th>\n",
              "      <td>21247.0</td>\n",
              "      <td>21575.0</td>\n",
              "      <td>0.694412</td>\n",
              "      <td>2.0</td>\n",
              "    </tr>\n",
              "    <tr>\n",
              "      <th>13</th>\n",
              "      <td>14900.0</td>\n",
              "      <td>42486.0</td>\n",
              "      <td>0.696769</td>\n",
              "      <td>2.0</td>\n",
              "    </tr>\n",
              "    <tr>\n",
              "      <th>14</th>\n",
              "      <td>30100.0</td>\n",
              "      <td>41908.0</td>\n",
              "      <td>0.699261</td>\n",
              "      <td>2.0</td>\n",
              "    </tr>\n",
              "    <tr>\n",
              "      <th>15</th>\n",
              "      <td>12040.0</td>\n",
              "      <td>13254.0</td>\n",
              "      <td>0.701134</td>\n",
              "      <td>2.0</td>\n",
              "    </tr>\n",
              "    <tr>\n",
              "      <th>16</th>\n",
              "      <td>10508.0</td>\n",
              "      <td>25434.0</td>\n",
              "      <td>0.708872</td>\n",
              "      <td>2.0</td>\n",
              "    </tr>\n",
              "    <tr>\n",
              "      <th>17</th>\n",
              "      <td>30695.0</td>\n",
              "      <td>30757.0</td>\n",
              "      <td>0.710023</td>\n",
              "      <td>2.0</td>\n",
              "    </tr>\n",
              "    <tr>\n",
              "      <th>18</th>\n",
              "      <td>31019.0</td>\n",
              "      <td>31033.0</td>\n",
              "      <td>0.712052</td>\n",
              "      <td>2.0</td>\n",
              "    </tr>\n",
              "    <tr>\n",
              "      <th>19</th>\n",
              "      <td>36264.0</td>\n",
              "      <td>37285.0</td>\n",
              "      <td>0.713130</td>\n",
              "      <td>2.0</td>\n",
              "    </tr>\n",
              "  </tbody>\n",
              "</table>\n",
              "</div>"
            ],
            "text/plain": [
              "    clusterOne  clusterTwo  distance  newClusterSize\n",
              "0      42194.0     43025.0  0.562682             2.0\n",
              "1      28350.0     37674.0  0.590866             2.0\n",
              "2      26696.0     44705.0  0.621506             2.0\n",
              "3      12634.0     32823.0  0.627762             2.0\n",
              "4      24707.0     43151.0  0.637668             2.0\n",
              "5      20465.0     24483.0  0.662557             2.0\n",
              "6        466.0     42098.0  0.664189             2.0\n",
              "7      46542.0     49961.0  0.665520             2.0\n",
              "8       2301.0      5732.0  0.671215             2.0\n",
              "9      37564.0     47668.0  0.675121             2.0\n",
              "10      3375.0     26243.0  0.685797             2.0\n",
              "11     15722.0     30368.0  0.686356             2.0\n",
              "12     21247.0     21575.0  0.694412             2.0\n",
              "13     14900.0     42486.0  0.696769             2.0\n",
              "14     30100.0     41908.0  0.699261             2.0\n",
              "15     12040.0     13254.0  0.701134             2.0\n",
              "16     10508.0     25434.0  0.708872             2.0\n",
              "17     30695.0     30757.0  0.710023             2.0\n",
              "18     31019.0     31033.0  0.712052             2.0\n",
              "19     36264.0     37285.0  0.713130             2.0"
            ]
          },
          "metadata": {
            "tags": []
          },
          "execution_count": 17
        }
      ]
    },
    {
      "cell_type": "code",
      "metadata": {
        "id": "JXmaJ_wB0Co9",
        "colab_type": "code",
        "colab": {
          "base_uri": "https://localhost:8080/",
          "height": 51
        },
        "outputId": "579a0cbd-4ba8-4348-d6b3-6d0c3f429da5"
      },
      "source": [
        "from scipy.cluster.hierarchy import fcluster\n",
        "\n",
        "distance_threshold = 160\n",
        "clusters = fcluster(Z, distance_threshold, criterion='distance')\n",
        "X_train_hierClustered = \\\n",
        "    pd.DataFrame(data=clusters,index=X_train_PCA.index,columns=['cluster'])"
      ],
      "execution_count": 18,
      "outputs": [
        {
          "output_type": "stream",
          "text": [
            "CPU times: user 140 ms, sys: 989 µs, total: 141 ms\n",
            "Wall time: 145 ms\n"
          ],
          "name": "stdout"
        }
      ]
    },
    {
      "cell_type": "code",
      "metadata": {
        "id": "u21yqbOe0Fvc",
        "colab_type": "code",
        "colab": {
          "base_uri": "https://localhost:8080/",
          "height": 34
        },
        "outputId": "f2da1313-73fd-487f-8f66-940d4de66022"
      },
      "source": [
        "print(\"Number of distinct clusters: \", \\\n",
        "      len(X_train_hierClustered['cluster'].unique()))"
      ],
      "execution_count": 19,
      "outputs": [
        {
          "output_type": "stream",
          "text": [
            "Number of distinct clusters:  20\n"
          ],
          "name": "stdout"
        }
      ]
    },
    {
      "cell_type": "code",
      "metadata": {
        "id": "-g-tfRA10Iqi",
        "colab_type": "code",
        "colab": {
          "base_uri": "https://localhost:8080/",
          "height": 34
        },
        "outputId": "f6fc0ff4-f2a0-422f-8a78-f5657828a2b1"
      },
      "source": [
        "countByCluster_hierClust, countByLabel_hierClust, \\\n",
        "    countMostFreq_hierClust, accuracyDF_hierClust, \\\n",
        "    overallAccuracy_hierClust, accuracyByLabel_hierClust \\\n",
        "    = analyzeCluster(X_train_hierClustered, y_train)\n",
        "\n",
        "print(\"Overall accuracy from hierarchical clustering: \", \\\n",
        "      overallAccuracy_hierClust)"
      ],
      "execution_count": 20,
      "outputs": [
        {
          "output_type": "stream",
          "text": [
            "Overall accuracy from hierarchical clustering:  0.76882\n"
          ],
          "name": "stdout"
        }
      ]
    },
    {
      "cell_type": "code",
      "metadata": {
        "id": "QHLP1-g70Ki8",
        "colab_type": "code",
        "colab": {
          "base_uri": "https://localhost:8080/",
          "height": 391
        },
        "outputId": "3721b4f4-ff51-4e9f-d7db-82584aaf359c"
      },
      "source": [
        "print(\"Accuracy by cluster for hierarchical clustering\")\n",
        "accuracyByLabel_hierClust"
      ],
      "execution_count": 21,
      "outputs": [
        {
          "output_type": "stream",
          "text": [
            "Accuracy by cluster for hierarchical clustering\n"
          ],
          "name": "stdout"
        },
        {
          "output_type": "execute_result",
          "data": {
            "text/plain": [
              "0     0.987962\n",
              "1     0.983727\n",
              "2     0.988998\n",
              "3     0.597356\n",
              "4     0.678642\n",
              "5     0.442478\n",
              "6     0.950033\n",
              "7     0.829060\n",
              "8     0.976062\n",
              "9     0.986141\n",
              "10    0.990183\n",
              "11    0.992183\n",
              "12    0.971033\n",
              "13    0.554273\n",
              "14    0.553617\n",
              "15    0.720183\n",
              "16    0.538891\n",
              "17    0.484590\n",
              "18    0.957732\n",
              "19    0.977310\n",
              "dtype: float64"
            ]
          },
          "metadata": {
            "tags": []
          },
          "execution_count": 21
        }
      ]
    },
    {
      "cell_type": "code",
      "metadata": {
        "id": "TpdEI4H-0M1E",
        "colab_type": "code",
        "colab": {
          "base_uri": "https://localhost:8080/",
          "height": 34
        },
        "outputId": "374ccf13-5b76-494c-a1bc-6bf660dbb8fb"
      },
      "source": [
        "%%time\n",
        "\n",
        "#DBSCAN\n",
        "\n",
        "from sklearn.cluster import DBSCAN\n",
        "\n",
        "eps = 3\n",
        "min_samples = 5\n",
        "leaf_size = 30\n",
        "n_jobs = 4\n",
        "\n",
        "db = DBSCAN(eps=eps, min_samples=min_samples, leaf_size=leaf_size, \n",
        "            n_jobs=n_jobs)\n",
        "\n",
        "cutoff = 99\n",
        "X_train_PCA_dbscanClustered = db.fit_predict(X_train_PCA.loc[:,0:cutoff])\n",
        "X_train_PCA_dbscanClustered = \\\n",
        "    pd.DataFrame(data=X_train_PCA_dbscanClustered, index=X_train.index, \\\n",
        "                 columns=['cluster'])\n",
        "\n",
        "countByCluster_dbscan, countByLabel_dbscan, countMostFreq_dbscan, \\\n",
        "    accuracyDF_dbscan, overallAccuracy_dbscan, accuracyByLabel_dbscan \\\n",
        "    = analyzeCluster(X_train_PCA_dbscanClustered, y_train)\n",
        "\n",
        "overallAccuracy_dbscan"
      ],
      "execution_count": 22,
      "outputs": [
        {
          "output_type": "execute_result",
          "data": {
            "text/plain": [
              "0.242"
            ]
          },
          "metadata": {
            "tags": []
          },
          "execution_count": 22
        }
      ]
    },
    {
      "cell_type": "code",
      "metadata": {
        "id": "D5dWlr5_9ET6",
        "colab_type": "code",
        "colab": {
          "base_uri": "https://localhost:8080/",
          "height": 34
        },
        "outputId": "0b6f5439-acdc-46da-d343-1f3550288959"
      },
      "source": [
        "print(\"Overall accuracy from DBSCAN: \",overallAccuracy_dbscan)"
      ],
      "execution_count": 23,
      "outputs": [
        {
          "output_type": "stream",
          "text": [
            "Overall accuracy from DBSCAN:  0.242\n"
          ],
          "name": "stdout"
        }
      ]
    },
    {
      "cell_type": "code",
      "metadata": {
        "id": "OJKaHIS89Hhs",
        "colab_type": "code",
        "colab": {
          "base_uri": "https://localhost:8080/",
          "height": 1000
        },
        "outputId": "debe916d-e3e8-49f7-9359-01c124207643"
      },
      "source": [
        "print(\"Cluster results for DBSCAN\")\n",
        "countByCluster_dbscan"
      ],
      "execution_count": 24,
      "outputs": [
        {
          "output_type": "stream",
          "text": [
            "Cluster results for DBSCAN\n"
          ],
          "name": "stdout"
        },
        {
          "output_type": "execute_result",
          "data": {
            "text/html": [
              "<div>\n",
              "<style scoped>\n",
              "    .dataframe tbody tr th:only-of-type {\n",
              "        vertical-align: middle;\n",
              "    }\n",
              "\n",
              "    .dataframe tbody tr th {\n",
              "        vertical-align: top;\n",
              "    }\n",
              "\n",
              "    .dataframe thead th {\n",
              "        text-align: right;\n",
              "    }\n",
              "</style>\n",
              "<table border=\"1\" class=\"dataframe\">\n",
              "  <thead>\n",
              "    <tr style=\"text-align: right;\">\n",
              "      <th></th>\n",
              "      <th>cluster</th>\n",
              "      <th>clusterCount</th>\n",
              "    </tr>\n",
              "  </thead>\n",
              "  <tbody>\n",
              "    <tr>\n",
              "      <th>0</th>\n",
              "      <td>-1</td>\n",
              "      <td>39575</td>\n",
              "    </tr>\n",
              "    <tr>\n",
              "      <th>1</th>\n",
              "      <td>0</td>\n",
              "      <td>8885</td>\n",
              "    </tr>\n",
              "    <tr>\n",
              "      <th>2</th>\n",
              "      <td>8</td>\n",
              "      <td>720</td>\n",
              "    </tr>\n",
              "    <tr>\n",
              "      <th>3</th>\n",
              "      <td>5</td>\n",
              "      <td>92</td>\n",
              "    </tr>\n",
              "    <tr>\n",
              "      <th>4</th>\n",
              "      <td>18</td>\n",
              "      <td>51</td>\n",
              "    </tr>\n",
              "    <tr>\n",
              "      <th>5</th>\n",
              "      <td>38</td>\n",
              "      <td>38</td>\n",
              "    </tr>\n",
              "    <tr>\n",
              "      <th>6</th>\n",
              "      <td>41</td>\n",
              "      <td>22</td>\n",
              "    </tr>\n",
              "    <tr>\n",
              "      <th>7</th>\n",
              "      <td>39</td>\n",
              "      <td>22</td>\n",
              "    </tr>\n",
              "    <tr>\n",
              "      <th>8</th>\n",
              "      <td>4</td>\n",
              "      <td>16</td>\n",
              "    </tr>\n",
              "    <tr>\n",
              "      <th>9</th>\n",
              "      <td>20</td>\n",
              "      <td>16</td>\n",
              "    </tr>\n",
              "    <tr>\n",
              "      <th>10</th>\n",
              "      <td>10</td>\n",
              "      <td>16</td>\n",
              "    </tr>\n",
              "    <tr>\n",
              "      <th>11</th>\n",
              "      <td>2</td>\n",
              "      <td>15</td>\n",
              "    </tr>\n",
              "    <tr>\n",
              "      <th>12</th>\n",
              "      <td>33</td>\n",
              "      <td>13</td>\n",
              "    </tr>\n",
              "    <tr>\n",
              "      <th>13</th>\n",
              "      <td>25</td>\n",
              "      <td>12</td>\n",
              "    </tr>\n",
              "    <tr>\n",
              "      <th>14</th>\n",
              "      <td>66</td>\n",
              "      <td>12</td>\n",
              "    </tr>\n",
              "    <tr>\n",
              "      <th>15</th>\n",
              "      <td>12</td>\n",
              "      <td>12</td>\n",
              "    </tr>\n",
              "    <tr>\n",
              "      <th>16</th>\n",
              "      <td>28</td>\n",
              "      <td>11</td>\n",
              "    </tr>\n",
              "    <tr>\n",
              "      <th>17</th>\n",
              "      <td>36</td>\n",
              "      <td>11</td>\n",
              "    </tr>\n",
              "    <tr>\n",
              "      <th>18</th>\n",
              "      <td>40</td>\n",
              "      <td>11</td>\n",
              "    </tr>\n",
              "    <tr>\n",
              "      <th>19</th>\n",
              "      <td>9</td>\n",
              "      <td>10</td>\n",
              "    </tr>\n",
              "    <tr>\n",
              "      <th>20</th>\n",
              "      <td>23</td>\n",
              "      <td>10</td>\n",
              "    </tr>\n",
              "    <tr>\n",
              "      <th>21</th>\n",
              "      <td>37</td>\n",
              "      <td>8</td>\n",
              "    </tr>\n",
              "    <tr>\n",
              "      <th>22</th>\n",
              "      <td>61</td>\n",
              "      <td>8</td>\n",
              "    </tr>\n",
              "    <tr>\n",
              "      <th>23</th>\n",
              "      <td>51</td>\n",
              "      <td>8</td>\n",
              "    </tr>\n",
              "    <tr>\n",
              "      <th>24</th>\n",
              "      <td>56</td>\n",
              "      <td>8</td>\n",
              "    </tr>\n",
              "    <tr>\n",
              "      <th>25</th>\n",
              "      <td>24</td>\n",
              "      <td>8</td>\n",
              "    </tr>\n",
              "    <tr>\n",
              "      <th>26</th>\n",
              "      <td>63</td>\n",
              "      <td>8</td>\n",
              "    </tr>\n",
              "    <tr>\n",
              "      <th>27</th>\n",
              "      <td>30</td>\n",
              "      <td>8</td>\n",
              "    </tr>\n",
              "    <tr>\n",
              "      <th>28</th>\n",
              "      <td>35</td>\n",
              "      <td>8</td>\n",
              "    </tr>\n",
              "    <tr>\n",
              "      <th>29</th>\n",
              "      <td>74</td>\n",
              "      <td>7</td>\n",
              "    </tr>\n",
              "    <tr>\n",
              "      <th>...</th>\n",
              "      <td>...</td>\n",
              "      <td>...</td>\n",
              "    </tr>\n",
              "    <tr>\n",
              "      <th>70</th>\n",
              "      <td>58</td>\n",
              "      <td>5</td>\n",
              "    </tr>\n",
              "    <tr>\n",
              "      <th>71</th>\n",
              "      <td>87</td>\n",
              "      <td>5</td>\n",
              "    </tr>\n",
              "    <tr>\n",
              "      <th>72</th>\n",
              "      <td>22</td>\n",
              "      <td>5</td>\n",
              "    </tr>\n",
              "    <tr>\n",
              "      <th>73</th>\n",
              "      <td>21</td>\n",
              "      <td>5</td>\n",
              "    </tr>\n",
              "    <tr>\n",
              "      <th>74</th>\n",
              "      <td>52</td>\n",
              "      <td>5</td>\n",
              "    </tr>\n",
              "    <tr>\n",
              "      <th>75</th>\n",
              "      <td>47</td>\n",
              "      <td>5</td>\n",
              "    </tr>\n",
              "    <tr>\n",
              "      <th>76</th>\n",
              "      <td>80</td>\n",
              "      <td>5</td>\n",
              "    </tr>\n",
              "    <tr>\n",
              "      <th>77</th>\n",
              "      <td>48</td>\n",
              "      <td>5</td>\n",
              "    </tr>\n",
              "    <tr>\n",
              "      <th>78</th>\n",
              "      <td>79</td>\n",
              "      <td>5</td>\n",
              "    </tr>\n",
              "    <tr>\n",
              "      <th>79</th>\n",
              "      <td>77</td>\n",
              "      <td>5</td>\n",
              "    </tr>\n",
              "    <tr>\n",
              "      <th>80</th>\n",
              "      <td>14</td>\n",
              "      <td>5</td>\n",
              "    </tr>\n",
              "    <tr>\n",
              "      <th>81</th>\n",
              "      <td>78</td>\n",
              "      <td>5</td>\n",
              "    </tr>\n",
              "    <tr>\n",
              "      <th>82</th>\n",
              "      <td>46</td>\n",
              "      <td>5</td>\n",
              "    </tr>\n",
              "    <tr>\n",
              "      <th>83</th>\n",
              "      <td>82</td>\n",
              "      <td>4</td>\n",
              "    </tr>\n",
              "    <tr>\n",
              "      <th>84</th>\n",
              "      <td>72</td>\n",
              "      <td>4</td>\n",
              "    </tr>\n",
              "    <tr>\n",
              "      <th>85</th>\n",
              "      <td>75</td>\n",
              "      <td>4</td>\n",
              "    </tr>\n",
              "    <tr>\n",
              "      <th>86</th>\n",
              "      <td>45</td>\n",
              "      <td>4</td>\n",
              "    </tr>\n",
              "    <tr>\n",
              "      <th>87</th>\n",
              "      <td>92</td>\n",
              "      <td>4</td>\n",
              "    </tr>\n",
              "    <tr>\n",
              "      <th>88</th>\n",
              "      <td>60</td>\n",
              "      <td>4</td>\n",
              "    </tr>\n",
              "    <tr>\n",
              "      <th>89</th>\n",
              "      <td>57</td>\n",
              "      <td>4</td>\n",
              "    </tr>\n",
              "    <tr>\n",
              "      <th>90</th>\n",
              "      <td>89</td>\n",
              "      <td>4</td>\n",
              "    </tr>\n",
              "    <tr>\n",
              "      <th>91</th>\n",
              "      <td>50</td>\n",
              "      <td>4</td>\n",
              "    </tr>\n",
              "    <tr>\n",
              "      <th>92</th>\n",
              "      <td>55</td>\n",
              "      <td>4</td>\n",
              "    </tr>\n",
              "    <tr>\n",
              "      <th>93</th>\n",
              "      <td>86</td>\n",
              "      <td>4</td>\n",
              "    </tr>\n",
              "    <tr>\n",
              "      <th>94</th>\n",
              "      <td>85</td>\n",
              "      <td>4</td>\n",
              "    </tr>\n",
              "    <tr>\n",
              "      <th>95</th>\n",
              "      <td>43</td>\n",
              "      <td>4</td>\n",
              "    </tr>\n",
              "    <tr>\n",
              "      <th>96</th>\n",
              "      <td>83</td>\n",
              "      <td>4</td>\n",
              "    </tr>\n",
              "    <tr>\n",
              "      <th>97</th>\n",
              "      <td>11</td>\n",
              "      <td>4</td>\n",
              "    </tr>\n",
              "    <tr>\n",
              "      <th>98</th>\n",
              "      <td>54</td>\n",
              "      <td>3</td>\n",
              "    </tr>\n",
              "    <tr>\n",
              "      <th>99</th>\n",
              "      <td>96</td>\n",
              "      <td>3</td>\n",
              "    </tr>\n",
              "  </tbody>\n",
              "</table>\n",
              "<p>100 rows × 2 columns</p>\n",
              "</div>"
            ],
            "text/plain": [
              "    cluster  clusterCount\n",
              "0        -1         39575\n",
              "1         0          8885\n",
              "2         8           720\n",
              "3         5            92\n",
              "4        18            51\n",
              "5        38            38\n",
              "6        41            22\n",
              "7        39            22\n",
              "8         4            16\n",
              "9        20            16\n",
              "10       10            16\n",
              "11        2            15\n",
              "12       33            13\n",
              "13       25            12\n",
              "14       66            12\n",
              "15       12            12\n",
              "16       28            11\n",
              "17       36            11\n",
              "18       40            11\n",
              "19        9            10\n",
              "20       23            10\n",
              "21       37             8\n",
              "22       61             8\n",
              "23       51             8\n",
              "24       56             8\n",
              "25       24             8\n",
              "26       63             8\n",
              "27       30             8\n",
              "28       35             8\n",
              "29       74             7\n",
              "..      ...           ...\n",
              "70       58             5\n",
              "71       87             5\n",
              "72       22             5\n",
              "73       21             5\n",
              "74       52             5\n",
              "75       47             5\n",
              "76       80             5\n",
              "77       48             5\n",
              "78       79             5\n",
              "79       77             5\n",
              "80       14             5\n",
              "81       78             5\n",
              "82       46             5\n",
              "83       82             4\n",
              "84       72             4\n",
              "85       75             4\n",
              "86       45             4\n",
              "87       92             4\n",
              "88       60             4\n",
              "89       57             4\n",
              "90       89             4\n",
              "91       50             4\n",
              "92       55             4\n",
              "93       86             4\n",
              "94       85             4\n",
              "95       43             4\n",
              "96       83             4\n",
              "97       11             4\n",
              "98       54             3\n",
              "99       96             3\n",
              "\n",
              "[100 rows x 2 columns]"
            ]
          },
          "metadata": {
            "tags": []
          },
          "execution_count": 24
        }
      ]
    },
    {
      "cell_type": "code",
      "metadata": {
        "id": "qd9uJ7TD-WN2",
        "colab_type": "code",
        "colab": {
          "base_uri": "https://localhost:8080/",
          "height": 343
        },
        "outputId": "13d61ffe-401a-4169-b15e-a122cb6fc7a0"
      },
      "source": [
        "!pip install hdbscan"
      ],
      "execution_count": 26,
      "outputs": [
        {
          "output_type": "stream",
          "text": [
            "Collecting hdbscan\n",
            "\u001b[?25l  Downloading https://files.pythonhosted.org/packages/10/7c/1401ec61b0e7392287e045b6913206cfff050b65d869c19f7ec0f5626487/hdbscan-0.8.22.tar.gz (4.0MB)\n",
            "\u001b[K     |████████████████████████████████| 4.0MB 2.8MB/s \n",
            "\u001b[?25h  Installing build dependencies ... \u001b[?25l\u001b[?25hdone\n",
            "  Getting requirements to build wheel ... \u001b[?25l\u001b[?25hdone\n",
            "    Preparing wheel metadata ... \u001b[?25l\u001b[?25hdone\n",
            "Requirement already satisfied: cython>=0.27 in /usr/local/lib/python3.6/dist-packages (from hdbscan) (0.29.13)\n",
            "Requirement already satisfied: numpy>=1.16.0 in /usr/local/lib/python3.6/dist-packages (from hdbscan) (1.16.5)\n",
            "Requirement already satisfied: scipy>=0.9 in /usr/local/lib/python3.6/dist-packages (from hdbscan) (1.3.1)\n",
            "Requirement already satisfied: scikit-learn>=0.17 in /usr/local/lib/python3.6/dist-packages (from hdbscan) (0.21.3)\n",
            "Requirement already satisfied: joblib in /usr/local/lib/python3.6/dist-packages (from hdbscan) (0.13.2)\n",
            "Building wheels for collected packages: hdbscan\n",
            "  Building wheel for hdbscan (PEP 517) ... \u001b[?25l\u001b[?25hdone\n",
            "  Created wheel for hdbscan: filename=hdbscan-0.8.22-cp36-cp36m-linux_x86_64.whl size=2336934 sha256=f3fcd7ec934910be1cf96169a0501c2f55cdecef6d1c3ea31c12c13fe2eb951d\n",
            "  Stored in directory: /root/.cache/pip/wheels/6d/f9/db/f2e5e704427932f5b05c91fc520effbb0bd10ba8d73fd3bfc7\n",
            "Successfully built hdbscan\n",
            "Installing collected packages: hdbscan\n",
            "Successfully installed hdbscan-0.8.22\n"
          ],
          "name": "stdout"
        }
      ]
    },
    {
      "cell_type": "code",
      "metadata": {
        "id": "8OFQ1nQ19JJU",
        "colab_type": "code",
        "colab": {
          "base_uri": "https://localhost:8080/",
          "height": 139
        },
        "outputId": "c949f818-8b01-40c7-8d22-bf43b1c8e6df"
      },
      "source": [
        "%%time\n",
        "\n",
        "# hdbscan\n",
        "\n",
        "import hdbscan\n",
        "\n",
        "min_cluster_size = 30\n",
        "min_samples = None\n",
        "alpha = 1.0\n",
        "cluster_selection_method = 'eom'\n",
        "\n",
        "hdb = hdbscan.HDBSCAN(min_cluster_size=min_cluster_size, \\\n",
        "        min_samples=min_samples, alpha=alpha, \\\n",
        "        cluster_selection_method=cluster_selection_method)\n",
        "\n",
        "cutoff = 10\n",
        "X_train_PCA_hdbscanClustered = \\\n",
        "    hdb.fit_predict(X_train_PCA.loc[:,0:cutoff])\n",
        "\n",
        "X_train_PCA_hdbscanClustered = \\\n",
        "    pd.DataFrame(data=X_train_PCA_hdbscanClustered, \\\n",
        "    index=X_train.index, columns=['cluster'])\n",
        "\n",
        "countByCluster_hdbscan, countByLabel_hdbscan, \\\n",
        "    countMostFreq_hdbscan, accuracyDF_hdbscan, \\\n",
        "    overallAccuracy_hdbscan, accuracyByLabel_hdbscan \\\n",
        "    = analyzeCluster(X_train_PCA_hdbscanClustered, y_train)"
      ],
      "execution_count": 27,
      "outputs": [
        {
          "output_type": "stream",
          "text": [
            "/usr/local/lib/python3.6/dist-packages/sklearn/externals/six.py:31: DeprecationWarning: The module is deprecated in version 0.21 and will be removed in version 0.23 since we've dropped support for Python 2.7. Please rely on the official version of six (https://pypi.org/project/six/).\n",
            "  \"(https://pypi.org/project/six/).\", DeprecationWarning)\n",
            "/usr/local/lib/python3.6/dist-packages/sklearn/externals/joblib/__init__.py:15: DeprecationWarning: sklearn.externals.joblib is deprecated in 0.21 and will be removed in 0.23. Please import this functionality directly from joblib, which can be installed with: pip install joblib. If this warning is raised when loading pickled models, you may need to re-serialize those models with scikit-learn 0.21+.\n",
            "  warnings.warn(msg, category=DeprecationWarning)\n"
          ],
          "name": "stderr"
        },
        {
          "output_type": "stream",
          "text": [
            "CPU times: user 4.35 s, sys: 125 ms, total: 4.47 s\n",
            "Wall time: 36.5 s\n"
          ],
          "name": "stdout"
        }
      ]
    },
    {
      "cell_type": "code",
      "metadata": {
        "id": "Pqwg_xxH9Nn4",
        "colab_type": "code",
        "colab": {
          "base_uri": "https://localhost:8080/",
          "height": 34
        },
        "outputId": "d18cd632-34da-4cf5-8789-7676b2e27080"
      },
      "source": [
        "print(\"Overall accuracy from HDBSCAN: \",overallAccuracy_hdbscan)"
      ],
      "execution_count": 28,
      "outputs": [
        {
          "output_type": "stream",
          "text": [
            "Overall accuracy from HDBSCAN:  0.24696\n"
          ],
          "name": "stdout"
        }
      ]
    },
    {
      "cell_type": "code",
      "metadata": {
        "id": "zD-Syoy49PPX",
        "colab_type": "code",
        "colab": {
          "base_uri": "https://localhost:8080/",
          "height": 345
        },
        "outputId": "21fa3ce5-f64d-4c76-c0dd-3d129dd813b5"
      },
      "source": [
        "print(\"Cluster results for HDBSCAN\")\n",
        "countByCluster_hdbscan"
      ],
      "execution_count": 29,
      "outputs": [
        {
          "output_type": "stream",
          "text": [
            "Cluster results for HDBSCAN\n"
          ],
          "name": "stdout"
        },
        {
          "output_type": "execute_result",
          "data": {
            "text/html": [
              "<div>\n",
              "<style scoped>\n",
              "    .dataframe tbody tr th:only-of-type {\n",
              "        vertical-align: middle;\n",
              "    }\n",
              "\n",
              "    .dataframe tbody tr th {\n",
              "        vertical-align: top;\n",
              "    }\n",
              "\n",
              "    .dataframe thead th {\n",
              "        text-align: right;\n",
              "    }\n",
              "</style>\n",
              "<table border=\"1\" class=\"dataframe\">\n",
              "  <thead>\n",
              "    <tr style=\"text-align: right;\">\n",
              "      <th></th>\n",
              "      <th>cluster</th>\n",
              "      <th>clusterCount</th>\n",
              "    </tr>\n",
              "  </thead>\n",
              "  <tbody>\n",
              "    <tr>\n",
              "      <th>0</th>\n",
              "      <td>-1</td>\n",
              "      <td>42570</td>\n",
              "    </tr>\n",
              "    <tr>\n",
              "      <th>1</th>\n",
              "      <td>4</td>\n",
              "      <td>5140</td>\n",
              "    </tr>\n",
              "    <tr>\n",
              "      <th>2</th>\n",
              "      <td>7</td>\n",
              "      <td>942</td>\n",
              "    </tr>\n",
              "    <tr>\n",
              "      <th>3</th>\n",
              "      <td>0</td>\n",
              "      <td>605</td>\n",
              "    </tr>\n",
              "    <tr>\n",
              "      <th>4</th>\n",
              "      <td>6</td>\n",
              "      <td>295</td>\n",
              "    </tr>\n",
              "    <tr>\n",
              "      <th>5</th>\n",
              "      <td>3</td>\n",
              "      <td>252</td>\n",
              "    </tr>\n",
              "    <tr>\n",
              "      <th>6</th>\n",
              "      <td>1</td>\n",
              "      <td>119</td>\n",
              "    </tr>\n",
              "    <tr>\n",
              "      <th>7</th>\n",
              "      <td>5</td>\n",
              "      <td>45</td>\n",
              "    </tr>\n",
              "    <tr>\n",
              "      <th>8</th>\n",
              "      <td>2</td>\n",
              "      <td>32</td>\n",
              "    </tr>\n",
              "  </tbody>\n",
              "</table>\n",
              "</div>"
            ],
            "text/plain": [
              "   cluster  clusterCount\n",
              "0       -1         42570\n",
              "1        4          5140\n",
              "2        7           942\n",
              "3        0           605\n",
              "4        6           295\n",
              "5        3           252\n",
              "6        1           119\n",
              "7        5            45\n",
              "8        2            32"
            ]
          },
          "metadata": {
            "tags": []
          },
          "execution_count": 29
        }
      ]
    },
    {
      "cell_type": "code",
      "metadata": {
        "id": "RcrPvAB39Qpa",
        "colab_type": "code",
        "colab": {}
      },
      "source": [
        ""
      ],
      "execution_count": 0,
      "outputs": []
    }
  ]
}