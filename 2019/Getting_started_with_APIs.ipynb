{
  "nbformat": 4,
  "nbformat_minor": 0,
  "metadata": {
    "colab": {
      "name": "Getting_started_with_APIs.ipynb",
      "provenance": [],
      "include_colab_link": true
    },
    "kernelspec": {
      "name": "python3",
      "display_name": "Python 3"
    }
  },
  "cells": [
    {
      "cell_type": "markdown",
      "metadata": {
        "id": "view-in-github",
        "colab_type": "text"
      },
      "source": [
        "<a href=\"https://colab.research.google.com/github/1dhiman/100days-ml/blob/master/2019/Getting_started_with_APIs.ipynb\" target=\"_parent\"><img src=\"https://colab.research.google.com/assets/colab-badge.svg\" alt=\"Open In Colab\"/></a>"
      ]
    },
    {
      "cell_type": "markdown",
      "metadata": {
        "id": "MXAvlBafWFN9",
        "colab_type": "text"
      },
      "source": [
        "# Getting started with APIs\n",
        "\n",
        "We’ll be working with the [Open Notify](http://open-notify.org/) API, which gives access to data about the international space station. \n",
        "\n",
        "Each of these APIs are commonly called **endpoints**. The first endpoint we’ll use is `http://api.open-notify.org/astros.json`, which returns data about astronauts currently in space.\n",
        "\n",
        "#### API Status Codes\n",
        "\n",
        "Here are some codes that are relevant to `GET` requests:\n",
        "\n",
        "* 200: Everything went okay, and the result has been returned (if any).\n",
        "* 301: The server is redirecting you to a different endpoint. This can happen when a company switches domain names, or an endpoint name is changed.\n",
        "* 400: The server thinks you made a bad request. This can happen when you don’t send along the right data, among other things.\n",
        "* 401: The server thinks you’re not authenticated. \n",
        "* 403: The resource you’re trying to access is forbidden: you don’t have the right permissions to see it.\n",
        "* 404: The resource you tried to access wasn’t found on the server.\n",
        "* 503: The server is not ready to handle the request."
      ]
    },
    {
      "cell_type": "code",
      "metadata": {
        "id": "UooQzXvdWEaw",
        "colab_type": "code",
        "colab": {
          "base_uri": "https://localhost:8080/",
          "height": 71
        },
        "outputId": "9a66b8bf-ee0a-4dc7-8bff-022ac21c0869"
      },
      "source": [
        "import requests\n",
        "response = requests.get(\"http://api.open-notify.org/astros.json\")\n",
        "print(response.status_code)\n",
        "print(response.json())"
      ],
      "execution_count": 6,
      "outputs": [
        {
          "output_type": "stream",
          "text": [
            "200\n",
            "{'people': [{'name': 'Alexey Ovchinin', 'craft': 'ISS'}, {'name': 'Nick Hague', 'craft': 'ISS'}, {'name': 'Christina Koch', 'craft': 'ISS'}, {'name': 'Alexander Skvortsov', 'craft': 'ISS'}, {'name': 'Luca Parmitano', 'craft': 'ISS'}, {'name': 'Andrew Morgan', 'craft': 'ISS'}, {'name': 'Oleg Skripochka', 'craft': 'ISS'}, {'name': 'Jessica Meir', 'craft': 'ISS'}, {'name': 'Hazzaa Ali Almansoori', 'craft': 'ISS'}], 'number': 9, 'message': 'success'}\n"
          ],
          "name": "stdout"
        }
      ]
    },
    {
      "cell_type": "markdown",
      "metadata": {
        "id": "YXF4lo8OXvF8",
        "colab_type": "text"
      },
      "source": [
        "The `json` library has two main functions:\n",
        "\n",
        "* `json.dumps()` — Takes in a Python object, and converts (dumps) it to a string.\n",
        "* `json.loads()` — Takes a JSON string, and converts (loads) it to a Python object.\n",
        "\n",
        "The `dumps()` function is particularly useful as we can use it to print a formatted string which makes it easier to understand the JSON output"
      ]
    },
    {
      "cell_type": "code",
      "metadata": {
        "id": "xVk6a0AqWFxd",
        "colab_type": "code",
        "colab": {
          "base_uri": "https://localhost:8080/",
          "height": 731
        },
        "outputId": "e96ac4b5-ff36-4906-8d85-9406cc561b84"
      },
      "source": [
        "import json\n",
        "\n",
        "def jprint(obj):\n",
        "    # create a formatted string of the Python JSON object\n",
        "    text = json.dumps(obj, sort_keys=True, indent=4)\n",
        "    print(text)\n",
        "\n",
        "jprint(response.json())"
      ],
      "execution_count": 7,
      "outputs": [
        {
          "output_type": "stream",
          "text": [
            "{\n",
            "    \"message\": \"success\",\n",
            "    \"number\": 9,\n",
            "    \"people\": [\n",
            "        {\n",
            "            \"craft\": \"ISS\",\n",
            "            \"name\": \"Alexey Ovchinin\"\n",
            "        },\n",
            "        {\n",
            "            \"craft\": \"ISS\",\n",
            "            \"name\": \"Nick Hague\"\n",
            "        },\n",
            "        {\n",
            "            \"craft\": \"ISS\",\n",
            "            \"name\": \"Christina Koch\"\n",
            "        },\n",
            "        {\n",
            "            \"craft\": \"ISS\",\n",
            "            \"name\": \"Alexander Skvortsov\"\n",
            "        },\n",
            "        {\n",
            "            \"craft\": \"ISS\",\n",
            "            \"name\": \"Luca Parmitano\"\n",
            "        },\n",
            "        {\n",
            "            \"craft\": \"ISS\",\n",
            "            \"name\": \"Andrew Morgan\"\n",
            "        },\n",
            "        {\n",
            "            \"craft\": \"ISS\",\n",
            "            \"name\": \"Oleg Skripochka\"\n",
            "        },\n",
            "        {\n",
            "            \"craft\": \"ISS\",\n",
            "            \"name\": \"Jessica Meir\"\n",
            "        },\n",
            "        {\n",
            "            \"craft\": \"ISS\",\n",
            "            \"name\": \"Hazzaa Ali Almansoori\"\n",
            "        }\n",
            "    ]\n",
            "}\n"
          ],
          "name": "stdout"
        }
      ]
    },
    {
      "cell_type": "markdown",
      "metadata": {
        "id": "Tcs21PT4ZTka",
        "colab_type": "text"
      },
      "source": [
        "### Using an API with Query Parameters\n",
        "\n",
        "It’s very common, however, to have an API endpoint that requires us to specify parameters. An example of this the `http://api.open-notify.org/iss-pass.json` endpoint. This endpoint tells us the next times that the international space station will pass over a given location on the earth"
      ]
    },
    {
      "cell_type": "code",
      "metadata": {
        "id": "1uCCz7T2WJDi",
        "colab_type": "code",
        "colab": {
          "base_uri": "https://localhost:8080/",
          "height": 561
        },
        "outputId": "4d4776bd-5646-4436-9147-db8d8604370c"
      },
      "source": [
        "parameters = {\n",
        "    \"lat\": 40.71,\n",
        "    \"lon\": -74\n",
        "}\n",
        "\n",
        "response = requests.get(\"http://api.open-notify.org/iss-pass.json\", params=parameters)\n",
        "\n",
        "jprint(response.json())"
      ],
      "execution_count": 8,
      "outputs": [
        {
          "output_type": "stream",
          "text": [
            "{\n",
            "    \"message\": \"success\",\n",
            "    \"request\": {\n",
            "        \"altitude\": 100,\n",
            "        \"datetime\": 1569428284,\n",
            "        \"latitude\": 40.71,\n",
            "        \"longitude\": -74.0,\n",
            "        \"passes\": 5\n",
            "    },\n",
            "    \"response\": [\n",
            "        {\n",
            "            \"duration\": 267,\n",
            "            \"risetime\": 1569441547\n",
            "        },\n",
            "        {\n",
            "            \"duration\": 629,\n",
            "            \"risetime\": 1569447120\n",
            "        },\n",
            "        {\n",
            "            \"duration\": 626,\n",
            "            \"risetime\": 1569452927\n",
            "        },\n",
            "        {\n",
            "            \"duration\": 558,\n",
            "            \"risetime\": 1569458814\n",
            "        },\n",
            "        {\n",
            "            \"duration\": 580,\n",
            "            \"risetime\": 1569464670\n",
            "        }\n",
            "    ]\n",
            "}\n"
          ],
          "name": "stdout"
        }
      ]
    },
    {
      "cell_type": "code",
      "metadata": {
        "id": "eQD2hrU9WKjT",
        "colab_type": "code",
        "colab": {
          "base_uri": "https://localhost:8080/",
          "height": 391
        },
        "outputId": "e8ea520e-1219-4564-eedd-d3e37bf2e6ad"
      },
      "source": [
        "pass_times = response.json()['response']\n",
        "jprint(pass_times)"
      ],
      "execution_count": 9,
      "outputs": [
        {
          "output_type": "stream",
          "text": [
            "[\n",
            "    {\n",
            "        \"duration\": 267,\n",
            "        \"risetime\": 1569441547\n",
            "    },\n",
            "    {\n",
            "        \"duration\": 629,\n",
            "        \"risetime\": 1569447120\n",
            "    },\n",
            "    {\n",
            "        \"duration\": 626,\n",
            "        \"risetime\": 1569452927\n",
            "    },\n",
            "    {\n",
            "        \"duration\": 558,\n",
            "        \"risetime\": 1569458814\n",
            "    },\n",
            "    {\n",
            "        \"duration\": 580,\n",
            "        \"risetime\": 1569464670\n",
            "    }\n",
            "]\n"
          ],
          "name": "stdout"
        }
      ]
    },
    {
      "cell_type": "code",
      "metadata": {
        "id": "nTRn-2lDZ07k",
        "colab_type": "code",
        "colab": {
          "base_uri": "https://localhost:8080/",
          "height": 34
        },
        "outputId": "dd8e4baa-f85f-4730-ce45-6ddf1676f04d"
      },
      "source": [
        "risetimes = []\n",
        "\n",
        "for d in pass_times:\n",
        "    time = d['risetime']\n",
        "    risetimes.append(time)\n",
        "\n",
        "print(risetimes)"
      ],
      "execution_count": 10,
      "outputs": [
        {
          "output_type": "stream",
          "text": [
            "[1569441547, 1569447120, 1569452927, 1569458814, 1569464670]\n"
          ],
          "name": "stdout"
        }
      ]
    },
    {
      "cell_type": "markdown",
      "metadata": {
        "id": "h_RTWTg5aEP_",
        "colab_type": "text"
      },
      "source": [
        "Essentially the time is measured in the number of seconds since January 1st 1970"
      ]
    },
    {
      "cell_type": "code",
      "metadata": {
        "id": "1PHwK4fqZ6uL",
        "colab_type": "code",
        "colab": {
          "base_uri": "https://localhost:8080/",
          "height": 102
        },
        "outputId": "83d02195-3dc5-48bd-a7bd-1fb781606afc"
      },
      "source": [
        "from datetime import datetime\n",
        "\n",
        "times = []\n",
        "\n",
        "for rt in risetimes:\n",
        "    time = datetime.fromtimestamp(rt)\n",
        "    times.append(time)\n",
        "    print(time)"
      ],
      "execution_count": 11,
      "outputs": [
        {
          "output_type": "stream",
          "text": [
            "2019-09-25 19:59:07\n",
            "2019-09-25 21:32:00\n",
            "2019-09-25 23:08:47\n",
            "2019-09-26 00:46:54\n",
            "2019-09-26 02:24:30\n"
          ],
          "name": "stdout"
        }
      ]
    },
    {
      "cell_type": "markdown",
      "metadata": {
        "id": "wiMx7tcgaLhP",
        "colab_type": "text"
      },
      "source": [
        "[Source](https://www.dataquest.io/blog/python-api-tutorial/)"
      ]
    }
  ]
}