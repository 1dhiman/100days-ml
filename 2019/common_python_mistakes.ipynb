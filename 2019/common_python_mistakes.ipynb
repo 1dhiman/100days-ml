{
  "nbformat": 4,
  "nbformat_minor": 0,
  "metadata": {
    "colab": {
      "name": "common_python_mistakes.ipynb",
      "provenance": [],
      "include_colab_link": true
    },
    "kernelspec": {
      "name": "python3",
      "display_name": "Python 3"
    }
  },
  "cells": [
    {
      "cell_type": "markdown",
      "metadata": {
        "id": "view-in-github",
        "colab_type": "text"
      },
      "source": [
        "<a href=\"https://colab.research.google.com/github/1dhiman/100days-ml/blob/master/2019/common_python_mistakes.ipynb\" target=\"_parent\"><img src=\"https://colab.research.google.com/assets/colab-badge.svg\" alt=\"Open In Colab\"/></a>"
      ]
    },
    {
      "cell_type": "markdown",
      "metadata": {
        "id": "2SXuBv__O3Sn",
        "colab_type": "text"
      },
      "source": [
        "## Using empty list as a default argument\n",
        "\n",
        "### Wrong way"
      ]
    },
    {
      "cell_type": "code",
      "metadata": {
        "id": "Ef9aWyryOyQA",
        "colab_type": "code",
        "colab": {}
      },
      "source": [
        "def create_numbers_list(numbers_range, numbers = []):\n",
        "  for i in range(numbers_range):\n",
        "    numbers.append(i)\n",
        "  return numbers\n"
      ],
      "execution_count": 0,
      "outputs": []
    },
    {
      "cell_type": "code",
      "metadata": {
        "id": "s5PtguDzPPPw",
        "colab_type": "code",
        "colab": {}
      },
      "source": [
        "x = create_numbers_list(3)"
      ],
      "execution_count": 0,
      "outputs": []
    },
    {
      "cell_type": "code",
      "metadata": {
        "id": "j1M1vxS1PSuC",
        "colab_type": "code",
        "colab": {
          "base_uri": "https://localhost:8080/",
          "height": 34
        },
        "outputId": "622a6397-81be-4804-e0ec-f5fda8fb7a8c"
      },
      "source": [
        "x"
      ],
      "execution_count": 3,
      "outputs": [
        {
          "output_type": "execute_result",
          "data": {
            "text/plain": [
              "[0, 1, 2]"
            ]
          },
          "metadata": {
            "tags": []
          },
          "execution_count": 3
        }
      ]
    },
    {
      "cell_type": "code",
      "metadata": {
        "id": "Q6awe4E0PS9D",
        "colab_type": "code",
        "colab": {}
      },
      "source": [
        "y = create_numbers_list(5)"
      ],
      "execution_count": 0,
      "outputs": []
    },
    {
      "cell_type": "code",
      "metadata": {
        "id": "eHwHIQvmPUtb",
        "colab_type": "code",
        "colab": {
          "base_uri": "https://localhost:8080/",
          "height": 34
        },
        "outputId": "8e6d6048-f4f1-44a9-8010-6f4cf508b305"
      },
      "source": [
        "y"
      ],
      "execution_count": 5,
      "outputs": [
        {
          "output_type": "execute_result",
          "data": {
            "text/plain": [
              "[0, 1, 2, 0, 1, 2, 3, 4]"
            ]
          },
          "metadata": {
            "tags": []
          },
          "execution_count": 5
        }
      ]
    },
    {
      "cell_type": "markdown",
      "metadata": {
        "id": "PcvIjcqRPV2g",
        "colab_type": "text"
      },
      "source": [
        "!! list is growing \n",
        "\n",
        "### Right way"
      ]
    },
    {
      "cell_type": "code",
      "metadata": {
        "id": "TRmPUyEsPVCG",
        "colab_type": "code",
        "colab": {}
      },
      "source": [
        "def create_numbers_list(numbers_range, numbers = None):\n",
        "  if numbers == None:\n",
        "    numbers = []\n",
        "  for i in range(numbers_range):\n",
        "    numbers.append(i)\n",
        "  return numbers\n"
      ],
      "execution_count": 0,
      "outputs": []
    },
    {
      "cell_type": "code",
      "metadata": {
        "id": "gr3kaE6DPmgT",
        "colab_type": "code",
        "colab": {}
      },
      "source": [
        "x = create_numbers_list(3)"
      ],
      "execution_count": 0,
      "outputs": []
    },
    {
      "cell_type": "code",
      "metadata": {
        "id": "6M4YxaTpPn5K",
        "colab_type": "code",
        "colab": {
          "base_uri": "https://localhost:8080/",
          "height": 34
        },
        "outputId": "1199a46a-d3f1-425f-a932-aac1b51fe41c"
      },
      "source": [
        "x"
      ],
      "execution_count": 8,
      "outputs": [
        {
          "output_type": "execute_result",
          "data": {
            "text/plain": [
              "[0, 1, 2]"
            ]
          },
          "metadata": {
            "tags": []
          },
          "execution_count": 8
        }
      ]
    },
    {
      "cell_type": "code",
      "metadata": {
        "id": "JksMy7NgPoH6",
        "colab_type": "code",
        "colab": {}
      },
      "source": [
        "y = create_numbers_list(5)"
      ],
      "execution_count": 0,
      "outputs": []
    },
    {
      "cell_type": "code",
      "metadata": {
        "id": "VohPMTSLPpC5",
        "colab_type": "code",
        "colab": {
          "base_uri": "https://localhost:8080/",
          "height": 34
        },
        "outputId": "3936afdd-de78-4ae0-b705-193643358867"
      },
      "source": [
        "y"
      ],
      "execution_count": 10,
      "outputs": [
        {
          "output_type": "execute_result",
          "data": {
            "text/plain": [
              "[0, 1, 2, 3, 4]"
            ]
          },
          "metadata": {
            "tags": []
          },
          "execution_count": 10
        }
      ]
    },
    {
      "cell_type": "markdown",
      "metadata": {
        "id": "A_r0pjm5PrzN",
        "colab_type": "text"
      },
      "source": [
        "## Forgetting to use `string.lower`/ `string.strip` when making boolean string checks"
      ]
    },
    {
      "cell_type": "code",
      "metadata": {
        "id": "RdDldcvPPpXG",
        "colab_type": "code",
        "colab": {}
      },
      "source": [
        "grocery_list = [\"apple \", \"Banana\", \" Carrot\", \"eggplant\"]"
      ],
      "execution_count": 0,
      "outputs": []
    },
    {
      "cell_type": "code",
      "metadata": {
        "id": "cCyAlGlhQF3Z",
        "colab_type": "code",
        "colab": {
          "base_uri": "https://localhost:8080/",
          "height": 34
        },
        "outputId": "5b441cfa-3dba-4fbb-a015-5f838fdc8501"
      },
      "source": [
        "\"Apple\" == \"apple\""
      ],
      "execution_count": 15,
      "outputs": [
        {
          "output_type": "execute_result",
          "data": {
            "text/plain": [
              "False"
            ]
          },
          "metadata": {
            "tags": []
          },
          "execution_count": 15
        }
      ]
    },
    {
      "cell_type": "code",
      "metadata": {
        "id": "LIrngkX0P9J3",
        "colab_type": "code",
        "colab": {
          "base_uri": "https://localhost:8080/",
          "height": 85
        },
        "outputId": "2c1b86ee-fdca-4753-d1e6-04d2dc85ca3a"
      },
      "source": [
        "for item in grocery_list:\n",
        "  if item == \"apple\":\n",
        "    print(\"fruit\")\n",
        "  elif item == \"banana\":\n",
        "    print(\"fruit\")\n",
        "  else:\n",
        "    print(\"nothing\")\n",
        "  "
      ],
      "execution_count": 16,
      "outputs": [
        {
          "output_type": "stream",
          "text": [
            "nothing\n",
            "nothing\n",
            "nothing\n",
            "nothing\n"
          ],
          "name": "stdout"
        }
      ]
    },
    {
      "cell_type": "markdown",
      "metadata": {
        "id": "iLx3tiUcQY9z",
        "colab_type": "text"
      },
      "source": [
        "### much better"
      ]
    },
    {
      "cell_type": "code",
      "metadata": {
        "id": "q-t7R5xzQN07",
        "colab_type": "code",
        "colab": {
          "base_uri": "https://localhost:8080/",
          "height": 85
        },
        "outputId": "32cb565e-8cff-43a2-99e5-1238828475cc"
      },
      "source": [
        "for item in grocery_list:\n",
        "  if item.lower().strip() == \"apple\".lower().strip():\n",
        "    print(\"fruit\")\n",
        "  elif item.lower().strip() == \"banana\".lower().strip():\n",
        "    print(\"fruit\")\n",
        "  else:\n",
        "    print(\"nothing\")\n",
        "  "
      ],
      "execution_count": 17,
      "outputs": [
        {
          "output_type": "stream",
          "text": [
            "fruit\n",
            "fruit\n",
            "nothing\n",
            "nothing\n"
          ],
          "name": "stdout"
        }
      ]
    },
    {
      "cell_type": "code",
      "metadata": {
        "id": "0EGjI6veQhTW",
        "colab_type": "code",
        "colab": {}
      },
      "source": [
        ""
      ],
      "execution_count": 0,
      "outputs": []
    }
  ]
}