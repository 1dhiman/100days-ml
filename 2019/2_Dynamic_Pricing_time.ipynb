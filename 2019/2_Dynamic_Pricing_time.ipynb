{
  "nbformat": 4,
  "nbformat_minor": 0,
  "metadata": {
    "colab": {
      "name": "2_Dynamic_Pricing_time.ipynb",
      "provenance": [],
      "include_colab_link": true
    },
    "kernelspec": {
      "name": "python3",
      "display_name": "Python 3"
    }
  },
  "cells": [
    {
      "cell_type": "markdown",
      "metadata": {
        "id": "view-in-github",
        "colab_type": "text"
      },
      "source": [
        "<a href=\"https://colab.research.google.com/github/1dhiman/100days-ml/blob/master/2019/2_Dynamic_Pricing_time.ipynb\" target=\"_parent\"><img src=\"https://colab.research.google.com/assets/colab-badge.svg\" alt=\"Open In Colab\"/></a>"
      ]
    },
    {
      "cell_type": "markdown",
      "metadata": {
        "id": "anavgdqRib7s",
        "colab_type": "text"
      },
      "source": [
        "## How does time influences the purchasing of a ticket to theatre?\n",
        "\n",
        "The rate at which people purchase their tickets follows a stochastic arrival process, which evolves over time while undergoing chance fluctuations in the form of a poisson distribution."
      ]
    },
    {
      "cell_type": "code",
      "metadata": {
        "id": "smjMXSW7iX_o",
        "colab_type": "code",
        "colab": {}
      },
      "source": [
        "import numpy as np\n",
        "import matplotlib.pyplot as plt"
      ],
      "execution_count": 0,
      "outputs": []
    },
    {
      "cell_type": "code",
      "metadata": {
        "id": "wr-ZKCy7idIB",
        "colab_type": "code",
        "colab": {}
      },
      "source": [
        "def get_exp_dist(mbt = 7, size = 10_000):\n",
        "    \"\"\"\n",
        "    returns array of booking times\n",
        "    \"\"\"\n",
        "    \n",
        "    np.random.seed(1)\n",
        "    bookings = np.random.exponential(mbt+1, size)\n",
        "    \n",
        "    return bookings"
      ],
      "execution_count": 0,
      "outputs": []
    },
    {
      "cell_type": "markdown",
      "metadata": {
        "id": "D7W8Tyt1qJPK",
        "colab_type": "text"
      },
      "source": [
        "To demonstrate, assume that the mean booking time (mbt) of an audience is 7 days"
      ]
    },
    {
      "cell_type": "code",
      "metadata": {
        "id": "CW40cIAIidGr",
        "colab_type": "code",
        "colab": {
          "base_uri": "https://localhost:8080/",
          "height": 685
        },
        "outputId": "d4d476e9-13cd-442a-d9ea-c6c63e14655e"
      },
      "source": [
        "mbt=7\n",
        "bookings = get_exp_dist(mbt=mbt)\n",
        "\n",
        "prob, x = np.histogram(bookings, bins=100)\n",
        "prob = np.divide(prob, prob.sum())\n",
        "x = x[1:]\n",
        "idx = np.sum(x<=mbt)\n",
        "\n",
        "plt.figure(figsize=(8,5))\n",
        "plt.title(f'Exponential    |    mbt = {int(bookings.mean())}', size =14)\n",
        "\n",
        "# Plot the stuff\n",
        "plt.bar(x, prob, width= x[1]-x[0],color='#2377ae',alpha=0.80, label = 'PDF')\n",
        "plt.fill_between(x,prob,0,where=x<14, label=f'+/- {mbt} days')\n",
        "\n",
        "# Add annotations + labels\n",
        "plt.vlines(x[idx],0,prob[idx], colors='black', linestyles='--', linewidth=2.0, alpha=0.65, label = 'mean')\n",
        "plt.xlabel('Booking Time')\n",
        "plt.ylabel('Probability')\n",
        "plt.legend()\n",
        "\n",
        "plt.show()\n",
        "\n",
        "# ---------------------------\n",
        "\n",
        "cum_prob = np.cumsum(prob[::-1])[::-1]\n",
        "\n",
        "plt.figure(figsize=(8,5))\n",
        "plt.title(f'Exponential – Cumulative    |    mbt = {mbt}', size =14)\n",
        "plt.plot(x, cum_prob, color='#2377ae', label = 'CDF', linewidth=3)\n",
        "\n",
        "idx = np.sum(cum_prob>=0.5)\n",
        "plt.vlines(x[idx], 0, cum_prob[idx], colors='black', linestyles='--', linewidth=2.5, alpha=0.65, label = 'median')\n",
        "plt.hlines(cum_prob[idx], x[0], x[idx],colors='black', linestyles='--', linewidth=2.5, alpha=0.65)\n",
        "\n",
        "plt.fill_between(x, cum_prob, 0, alpha=0.60)\n",
        "plt.xlabel('Booking Time')\n",
        "plt.ylabel('Cumulative Probability')\n",
        "plt.legend()\n",
        "# plt.savefig(f'output/exponential cumulative distribution mbt={mbt}.png', dpi=200)\n",
        "plt.show()"
      ],
      "execution_count": 3,
      "outputs": [
        {
          "output_type": "display_data",
          "data": {
            "image/png": "[encoded data removed]",
            "text/plain": [
              "<Figure size 576x360 with 1 Axes>"
            ]
          },
          "metadata": {
            "tags": []
          }
        },
        {
          "output_type": "display_data",
          "data": {
            "image/png": "[encoded data removed]",
            "text/plain": [
              "<Figure size 576x360 with 1 Axes>"
            ]
          },
          "metadata": {
            "tags": []
          }
        }
      ]
    },
    {
      "cell_type": "markdown",
      "metadata": {
        "id": "he5qhcBxqQmE",
        "colab_type": "text"
      },
      "source": [
        "According to an exponential fit, the likelihood of purchasing a ticket increases exponentially until the day of a performance, as demonstrated in the PDF\n",
        "\n"
      ]
    },
    {
      "cell_type": "code",
      "metadata": {
        "id": "zd5hIoFbidFb",
        "colab_type": "code",
        "colab": {}
      },
      "source": [
        ""
      ],
      "execution_count": 0,
      "outputs": []
    },
    {
      "cell_type": "code",
      "metadata": {
        "id": "DoAmhZz-idAE",
        "colab_type": "code",
        "colab": {}
      },
      "source": [
        ""
      ],
      "execution_count": 0,
      "outputs": []
    },
    {
      "cell_type": "code",
      "metadata": {
        "id": "uplyY1zHic78",
        "colab_type": "code",
        "colab": {}
      },
      "source": [
        ""
      ],
      "execution_count": 0,
      "outputs": []
    },
    {
      "cell_type": "code",
      "metadata": {
        "id": "sTD_sYCOic48",
        "colab_type": "code",
        "colab": {}
      },
      "source": [
        ""
      ],
      "execution_count": 0,
      "outputs": []
    }
  ]
}