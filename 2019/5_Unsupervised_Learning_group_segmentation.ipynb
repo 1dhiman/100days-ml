{
  "nbformat": 4,
  "nbformat_minor": 0,
  "metadata": {
    "colab": {
      "name": "5_Unsupervised_Learning_group_segmentation.ipynb",
      "provenance": [],
      "include_colab_link": true
    },
    "kernelspec": {
      "name": "python3",
      "display_name": "Python 3"
    }
  },
  "cells": [
    {
      "cell_type": "markdown",
      "metadata": {
        "id": "view-in-github",
        "colab_type": "text"
      },
      "source": [
        "<a href=\"https://colab.research.google.com/github/1dhiman/100days-ml/blob/master/2019/5_Unsupervised_Learning_group_segmentation.ipynb\" target=\"_parent\"><img src=\"https://colab.research.google.com/assets/colab-badge.svg\" alt=\"Open In Colab\"/></a>"
      ]
    },
    {
      "cell_type": "code",
      "metadata": {
        "id": "ZafYf6rjM7Bi",
        "colab_type": "code",
        "colab": {
          "base_uri": "https://localhost:8080/",
          "height": 139
        },
        "outputId": "17e464e2-c36a-41b3-df9e-f7633bd4b318"
      },
      "source": [
        "!pip install fastcluster"
      ],
      "execution_count": 3,
      "outputs": [
        {
          "output_type": "stream",
          "text": [
            "Collecting fastcluster\n",
            "\u001b[?25l  Downloading https://files.pythonhosted.org/packages/77/fc/19660c0d866840b65032df2263b4a04ad3e4ab9aaaf2a2d07fdbf990ffb1/fastcluster-1.1.25-cp36-cp36m-manylinux1_x86_64.whl (153kB)\n",
            "\u001b[K     |████████████████████████████████| 153kB 5.0MB/s \n",
            "\u001b[?25hRequirement already satisfied: numpy>=1.9 in /usr/local/lib/python3.6/dist-packages (from fastcluster) (1.16.5)\n",
            "Installing collected packages: fastcluster\n",
            "Successfully installed fastcluster-1.1.25\n"
          ],
          "name": "stdout"
        }
      ]
    },
    {
      "cell_type": "code",
      "metadata": {
        "id": "Cg826eO7KaZm",
        "colab_type": "code",
        "colab": {}
      },
      "source": [
        "# Import libraries\n",
        "'''Main'''\n",
        "import numpy as np\n",
        "import pandas as pd\n",
        "import os, time, re\n",
        "import pickle, gzip\n",
        "\n",
        "'''Data Viz'''\n",
        "import matplotlib.pyplot as plt\n",
        "import seaborn as sns\n",
        "color = sns.color_palette()\n",
        "import matplotlib as mpl\n",
        "\n",
        "%matplotlib inline\n",
        "\n",
        "'''Data Prep and Model Evaluation'''\n",
        "from sklearn import preprocessing as pp\n",
        "from sklearn.model_selection import train_test_split \n",
        "from sklearn.metrics import precision_recall_curve, average_precision_score\n",
        "from sklearn.metrics import roc_curve, auc, roc_auc_score\n",
        "\n",
        "'''Algorithms'''\n",
        "from sklearn.decomposition import PCA\n",
        "from sklearn.cluster import KMeans\n",
        "import fastcluster\n",
        "from scipy.cluster.hierarchy import dendrogram, cophenet, fcluster\n",
        "from scipy.spatial.distance import pdist"
      ],
      "execution_count": 0,
      "outputs": []
    },
    {
      "cell_type": "code",
      "metadata": {
        "id": "CCl87uakMwrv",
        "colab_type": "code",
        "colab": {
          "base_uri": "https://localhost:8080/",
          "height": 71
        },
        "outputId": "6e6a54c8-8747-4736-baf8-17f8c3f64fa3"
      },
      "source": [
        "# Load the data\n",
        "current_path = os.getcwd()\n",
        "file = 'https://raw.githubusercontent.com/aapatel09/handson-unsupervised-learning/master/datasets/lending_club_data/LoanStats3a.csv'\n",
        "data = pd.read_csv(file)"
      ],
      "execution_count": 5,
      "outputs": [
        {
          "output_type": "stream",
          "text": [
            "/usr/local/lib/python3.6/dist-packages/IPython/core/interactiveshell.py:2718: DtypeWarning: Columns (0,47) have mixed types. Specify dtype option on import or set low_memory=False.\n",
            "  interactivity=interactivity, compiler=compiler, result=result)\n"
          ],
          "name": "stderr"
        }
      ]
    },
    {
      "cell_type": "code",
      "metadata": {
        "id": "Puj97JKCM5Ua",
        "colab_type": "code",
        "colab": {}
      },
      "source": [
        "# Select columns to keep\n",
        "columnsToKeep = ['loan_amnt','funded_amnt','funded_amnt_inv','term', \\\n",
        "                 'int_rate','installment','grade','sub_grade', \\\n",
        "                 'emp_length','home_ownership','annual_inc', \\\n",
        "                 'verification_status','pymnt_plan','purpose', \\\n",
        "                 'addr_state','dti','delinq_2yrs','earliest_cr_line', \\\n",
        "                 'mths_since_last_delinq','mths_since_last_record', \\\n",
        "                 'open_acc','pub_rec','revol_bal','revol_util', \\\n",
        "                 'total_acc','initial_list_status','out_prncp', \\\n",
        "                 'out_prncp_inv','total_pymnt','total_pymnt_inv', \\\n",
        "                 'total_rec_prncp','total_rec_int','total_rec_late_fee', \\\n",
        "                 'recoveries','collection_recovery_fee','last_pymnt_d', \\\n",
        "                 'last_pymnt_amnt']\n",
        "\n",
        "data = data.loc[:,columnsToKeep]"
      ],
      "execution_count": 0,
      "outputs": []
    },
    {
      "cell_type": "code",
      "metadata": {
        "id": "nyB1xmLFNHK-",
        "colab_type": "code",
        "colab": {
          "base_uri": "https://localhost:8080/",
          "height": 34
        },
        "outputId": "9d2385d4-0468-47a5-f1db-bdd777597ef6"
      },
      "source": [
        "data.shape"
      ],
      "execution_count": 7,
      "outputs": [
        {
          "output_type": "execute_result",
          "data": {
            "text/plain": [
              "(42542, 37)"
            ]
          },
          "metadata": {
            "tags": []
          },
          "execution_count": 7
        }
      ]
    },
    {
      "cell_type": "code",
      "metadata": {
        "id": "YWGog2a4NI5a",
        "colab_type": "code",
        "colab": {
          "base_uri": "https://localhost:8080/",
          "height": 309
        },
        "outputId": "136fb90e-374d-4041-97d1-048bf88b4dfe"
      },
      "source": [
        "data.head()"
      ],
      "execution_count": 8,
      "outputs": [
        {
          "output_type": "execute_result",
          "data": {
            "text/html": [
              "<div>\n",
              "<style scoped>\n",
              "    .dataframe tbody tr th:only-of-type {\n",
              "        vertical-align: middle;\n",
              "    }\n",
              "\n",
              "    .dataframe tbody tr th {\n",
              "        vertical-align: top;\n",
              "    }\n",
              "\n",
              "    .dataframe thead th {\n",
              "        text-align: right;\n",
              "    }\n",
              "</style>\n",
              "<table border=\"1\" class=\"dataframe\">\n",
              "  <thead>\n",
              "    <tr style=\"text-align: right;\">\n",
              "      <th></th>\n",
              "      <th>loan_amnt</th>\n",
              "      <th>funded_amnt</th>\n",
              "      <th>funded_amnt_inv</th>\n",
              "      <th>term</th>\n",
              "      <th>int_rate</th>\n",
              "      <th>installment</th>\n",
              "      <th>grade</th>\n",
              "      <th>sub_grade</th>\n",
              "      <th>emp_length</th>\n",
              "      <th>home_ownership</th>\n",
              "      <th>annual_inc</th>\n",
              "      <th>verification_status</th>\n",
              "      <th>pymnt_plan</th>\n",
              "      <th>purpose</th>\n",
              "      <th>addr_state</th>\n",
              "      <th>dti</th>\n",
              "      <th>delinq_2yrs</th>\n",
              "      <th>earliest_cr_line</th>\n",
              "      <th>mths_since_last_delinq</th>\n",
              "      <th>mths_since_last_record</th>\n",
              "      <th>open_acc</th>\n",
              "      <th>pub_rec</th>\n",
              "      <th>revol_bal</th>\n",
              "      <th>revol_util</th>\n",
              "      <th>total_acc</th>\n",
              "      <th>initial_list_status</th>\n",
              "      <th>out_prncp</th>\n",
              "      <th>out_prncp_inv</th>\n",
              "      <th>total_pymnt</th>\n",
              "      <th>total_pymnt_inv</th>\n",
              "      <th>total_rec_prncp</th>\n",
              "      <th>total_rec_int</th>\n",
              "      <th>total_rec_late_fee</th>\n",
              "      <th>recoveries</th>\n",
              "      <th>collection_recovery_fee</th>\n",
              "      <th>last_pymnt_d</th>\n",
              "      <th>last_pymnt_amnt</th>\n",
              "    </tr>\n",
              "  </thead>\n",
              "  <tbody>\n",
              "    <tr>\n",
              "      <th>0</th>\n",
              "      <td>5000.0</td>\n",
              "      <td>5000.0</td>\n",
              "      <td>4975.0</td>\n",
              "      <td>36 months</td>\n",
              "      <td>10.65%</td>\n",
              "      <td>162.87</td>\n",
              "      <td>B</td>\n",
              "      <td>B2</td>\n",
              "      <td>10+ years</td>\n",
              "      <td>RENT</td>\n",
              "      <td>24000.0</td>\n",
              "      <td>Verified</td>\n",
              "      <td>n</td>\n",
              "      <td>credit_card</td>\n",
              "      <td>AZ</td>\n",
              "      <td>27.65</td>\n",
              "      <td>0.0</td>\n",
              "      <td>Jan-85</td>\n",
              "      <td>NaN</td>\n",
              "      <td>NaN</td>\n",
              "      <td>3.0</td>\n",
              "      <td>0.0</td>\n",
              "      <td>13648.0</td>\n",
              "      <td>83.70%</td>\n",
              "      <td>9.0</td>\n",
              "      <td>f</td>\n",
              "      <td>0.0</td>\n",
              "      <td>0.0</td>\n",
              "      <td>5863.155187</td>\n",
              "      <td>5833.84</td>\n",
              "      <td>5000.00</td>\n",
              "      <td>863.16</td>\n",
              "      <td>0.00</td>\n",
              "      <td>0.0</td>\n",
              "      <td>0.00</td>\n",
              "      <td>Jan-15</td>\n",
              "      <td>171.62</td>\n",
              "    </tr>\n",
              "    <tr>\n",
              "      <th>1</th>\n",
              "      <td>2500.0</td>\n",
              "      <td>2500.0</td>\n",
              "      <td>2500.0</td>\n",
              "      <td>60 months</td>\n",
              "      <td>15.27%</td>\n",
              "      <td>59.83</td>\n",
              "      <td>C</td>\n",
              "      <td>C4</td>\n",
              "      <td>&lt; 1 year</td>\n",
              "      <td>RENT</td>\n",
              "      <td>30000.0</td>\n",
              "      <td>Source Verified</td>\n",
              "      <td>n</td>\n",
              "      <td>car</td>\n",
              "      <td>GA</td>\n",
              "      <td>1.00</td>\n",
              "      <td>0.0</td>\n",
              "      <td>Apr-99</td>\n",
              "      <td>NaN</td>\n",
              "      <td>NaN</td>\n",
              "      <td>3.0</td>\n",
              "      <td>0.0</td>\n",
              "      <td>1687.0</td>\n",
              "      <td>9.40%</td>\n",
              "      <td>4.0</td>\n",
              "      <td>f</td>\n",
              "      <td>0.0</td>\n",
              "      <td>0.0</td>\n",
              "      <td>1014.530000</td>\n",
              "      <td>1014.53</td>\n",
              "      <td>456.46</td>\n",
              "      <td>435.17</td>\n",
              "      <td>0.00</td>\n",
              "      <td>122.9</td>\n",
              "      <td>1.11</td>\n",
              "      <td>Apr-13</td>\n",
              "      <td>119.66</td>\n",
              "    </tr>\n",
              "    <tr>\n",
              "      <th>2</th>\n",
              "      <td>2400.0</td>\n",
              "      <td>2400.0</td>\n",
              "      <td>2400.0</td>\n",
              "      <td>36 months</td>\n",
              "      <td>15.96%</td>\n",
              "      <td>84.33</td>\n",
              "      <td>C</td>\n",
              "      <td>C5</td>\n",
              "      <td>10+ years</td>\n",
              "      <td>RENT</td>\n",
              "      <td>12252.0</td>\n",
              "      <td>Not Verified</td>\n",
              "      <td>n</td>\n",
              "      <td>small_business</td>\n",
              "      <td>IL</td>\n",
              "      <td>8.72</td>\n",
              "      <td>0.0</td>\n",
              "      <td>Nov-01</td>\n",
              "      <td>NaN</td>\n",
              "      <td>NaN</td>\n",
              "      <td>2.0</td>\n",
              "      <td>0.0</td>\n",
              "      <td>2956.0</td>\n",
              "      <td>98.50%</td>\n",
              "      <td>10.0</td>\n",
              "      <td>f</td>\n",
              "      <td>0.0</td>\n",
              "      <td>0.0</td>\n",
              "      <td>3005.666844</td>\n",
              "      <td>3005.67</td>\n",
              "      <td>2400.00</td>\n",
              "      <td>605.67</td>\n",
              "      <td>0.00</td>\n",
              "      <td>0.0</td>\n",
              "      <td>0.00</td>\n",
              "      <td>Jun-14</td>\n",
              "      <td>649.91</td>\n",
              "    </tr>\n",
              "    <tr>\n",
              "      <th>3</th>\n",
              "      <td>10000.0</td>\n",
              "      <td>10000.0</td>\n",
              "      <td>10000.0</td>\n",
              "      <td>36 months</td>\n",
              "      <td>13.49%</td>\n",
              "      <td>339.31</td>\n",
              "      <td>C</td>\n",
              "      <td>C1</td>\n",
              "      <td>10+ years</td>\n",
              "      <td>RENT</td>\n",
              "      <td>49200.0</td>\n",
              "      <td>Source Verified</td>\n",
              "      <td>n</td>\n",
              "      <td>other</td>\n",
              "      <td>CA</td>\n",
              "      <td>20.00</td>\n",
              "      <td>0.0</td>\n",
              "      <td>Feb-96</td>\n",
              "      <td>35.0</td>\n",
              "      <td>NaN</td>\n",
              "      <td>10.0</td>\n",
              "      <td>0.0</td>\n",
              "      <td>5598.0</td>\n",
              "      <td>21%</td>\n",
              "      <td>37.0</td>\n",
              "      <td>f</td>\n",
              "      <td>0.0</td>\n",
              "      <td>0.0</td>\n",
              "      <td>12231.890000</td>\n",
              "      <td>12231.89</td>\n",
              "      <td>10000.00</td>\n",
              "      <td>2214.92</td>\n",
              "      <td>16.97</td>\n",
              "      <td>0.0</td>\n",
              "      <td>0.00</td>\n",
              "      <td>Jan-15</td>\n",
              "      <td>357.48</td>\n",
              "    </tr>\n",
              "    <tr>\n",
              "      <th>4</th>\n",
              "      <td>3000.0</td>\n",
              "      <td>3000.0</td>\n",
              "      <td>3000.0</td>\n",
              "      <td>60 months</td>\n",
              "      <td>12.69%</td>\n",
              "      <td>67.79</td>\n",
              "      <td>B</td>\n",
              "      <td>B5</td>\n",
              "      <td>1 year</td>\n",
              "      <td>RENT</td>\n",
              "      <td>80000.0</td>\n",
              "      <td>Source Verified</td>\n",
              "      <td>n</td>\n",
              "      <td>other</td>\n",
              "      <td>OR</td>\n",
              "      <td>17.94</td>\n",
              "      <td>0.0</td>\n",
              "      <td>Jan-96</td>\n",
              "      <td>38.0</td>\n",
              "      <td>NaN</td>\n",
              "      <td>15.0</td>\n",
              "      <td>0.0</td>\n",
              "      <td>27783.0</td>\n",
              "      <td>53.90%</td>\n",
              "      <td>38.0</td>\n",
              "      <td>f</td>\n",
              "      <td>0.0</td>\n",
              "      <td>0.0</td>\n",
              "      <td>4066.908161</td>\n",
              "      <td>4066.91</td>\n",
              "      <td>3000.00</td>\n",
              "      <td>1066.91</td>\n",
              "      <td>0.00</td>\n",
              "      <td>0.0</td>\n",
              "      <td>0.00</td>\n",
              "      <td>Jan-17</td>\n",
              "      <td>67.30</td>\n",
              "    </tr>\n",
              "  </tbody>\n",
              "</table>\n",
              "</div>"
            ],
            "text/plain": [
              "   loan_amnt  funded_amnt  ...  last_pymnt_d last_pymnt_amnt\n",
              "0     5000.0       5000.0  ...        Jan-15          171.62\n",
              "1     2500.0       2500.0  ...        Apr-13          119.66\n",
              "2     2400.0       2400.0  ...        Jun-14          649.91\n",
              "3    10000.0      10000.0  ...        Jan-15          357.48\n",
              "4     3000.0       3000.0  ...        Jan-17           67.30\n",
              "\n",
              "[5 rows x 37 columns]"
            ]
          },
          "metadata": {
            "tags": []
          },
          "execution_count": 8
        }
      ]
    },
    {
      "cell_type": "code",
      "metadata": {
        "id": "ekZbfIFoNJ5Z",
        "colab_type": "code",
        "colab": {}
      },
      "source": [
        "# Transform features from string to numeric\n",
        "for i in [\"term\",\"int_rate\",\"emp_length\",\"revol_util\"]:\n",
        "    data.loc[:,i] = \\\n",
        "        data.loc[:,i].apply(lambda x: re.sub(\"[^0-9]\", \"\", str(x)))\n",
        "    data.loc[:,i] = pd.to_numeric(data.loc[:,i])"
      ],
      "execution_count": 0,
      "outputs": []
    },
    {
      "cell_type": "code",
      "metadata": {
        "id": "-A-jAo2yNL0c",
        "colab_type": "code",
        "colab": {}
      },
      "source": [
        "# Determine which features are numerical\n",
        "numericalFeats = [x for x in data.columns if data[x].dtype != 'object']"
      ],
      "execution_count": 0,
      "outputs": []
    },
    {
      "cell_type": "code",
      "metadata": {
        "id": "cMBTJywSNNSB",
        "colab_type": "code",
        "colab": {
          "base_uri": "https://localhost:8080/",
          "height": 493
        },
        "outputId": "c18fd373-d3f3-4bef-feb1-43edbbdfcbad"
      },
      "source": [
        "# Display NaNs by feature\n",
        "nanCounter = np.isnan(data.loc[:,numericalFeats]).sum()\n",
        "nanCounter"
      ],
      "execution_count": 11,
      "outputs": [
        {
          "output_type": "execute_result",
          "data": {
            "text/plain": [
              "loan_amnt                      7\n",
              "funded_amnt                    7\n",
              "funded_amnt_inv                7\n",
              "term                           7\n",
              "int_rate                       7\n",
              "installment                    7\n",
              "emp_length                  1119\n",
              "annual_inc                    11\n",
              "dti                            7\n",
              "delinq_2yrs                   36\n",
              "mths_since_last_delinq     26933\n",
              "mths_since_last_record     38891\n",
              "open_acc                      36\n",
              "pub_rec                       36\n",
              "revol_bal                      7\n",
              "revol_util                    97\n",
              "total_acc                     36\n",
              "out_prncp                      7\n",
              "out_prncp_inv                  7\n",
              "total_pymnt                    7\n",
              "total_pymnt_inv                7\n",
              "total_rec_prncp                7\n",
              "total_rec_int                  7\n",
              "total_rec_late_fee             7\n",
              "recoveries                     7\n",
              "collection_recovery_fee        7\n",
              "last_pymnt_amnt                7\n",
              "dtype: int64"
            ]
          },
          "metadata": {
            "tags": []
          },
          "execution_count": 11
        }
      ]
    },
    {
      "cell_type": "code",
      "metadata": {
        "id": "VXyP8soONOxG",
        "colab_type": "code",
        "colab": {
          "base_uri": "https://localhost:8080/",
          "height": 71
        },
        "outputId": "58baf482-559e-4260-dc32-f5d6953e004a"
      },
      "source": [
        "# Impute NaNs with mean \n",
        "fillWithMean = ['loan_amnt','funded_amnt','funded_amnt_inv','term', \\\n",
        "                'int_rate','installment','emp_length','annual_inc',\\\n",
        "                'dti','open_acc','revol_bal','revol_util','total_acc',\\\n",
        "                'out_prncp','out_prncp_inv','total_pymnt', \\\n",
        "                'total_pymnt_inv','total_rec_prncp','total_rec_int', \\\n",
        "                'last_pymnt_amnt']\n",
        "\n",
        "# Impute NaNs with zero\n",
        "fillWithZero = ['delinq_2yrs','mths_since_last_delinq', \\\n",
        "                'mths_since_last_record','pub_rec','total_rec_late_fee', \\\n",
        "                'recoveries','collection_recovery_fee']\n",
        "\n",
        "# Perform imputation\n",
        "im = pp.Imputer(strategy='mean')   \n",
        "data.loc[:,fillWithMean] = im.fit_transform(data[fillWithMean])\n",
        "\n",
        "data.loc[:,fillWithZero] = data.loc[:,fillWithZero].fillna(value=0,axis=1)"
      ],
      "execution_count": 12,
      "outputs": [
        {
          "output_type": "stream",
          "text": [
            "/usr/local/lib/python3.6/dist-packages/sklearn/utils/deprecation.py:66: DeprecationWarning: Class Imputer is deprecated; Imputer was deprecated in version 0.20 and will be removed in 0.22. Import impute.SimpleImputer from sklearn instead.\n",
            "  warnings.warn(msg, category=DeprecationWarning)\n"
          ],
          "name": "stderr"
        }
      ]
    },
    {
      "cell_type": "code",
      "metadata": {
        "id": "nw-4zSw0NQkt",
        "colab_type": "code",
        "colab": {
          "base_uri": "https://localhost:8080/",
          "height": 493
        },
        "outputId": "d4dde4a6-693c-4ede-ede1-8202337c74cb"
      },
      "source": [
        "# Check for NaNs one last time\n",
        "nanCounter = np.isnan(data.loc[:,numericalFeats]).sum()\n",
        "nanCounter"
      ],
      "execution_count": 13,
      "outputs": [
        {
          "output_type": "execute_result",
          "data": {
            "text/plain": [
              "loan_amnt                  0\n",
              "funded_amnt                0\n",
              "funded_amnt_inv            0\n",
              "term                       0\n",
              "int_rate                   0\n",
              "installment                0\n",
              "emp_length                 0\n",
              "annual_inc                 0\n",
              "dti                        0\n",
              "delinq_2yrs                0\n",
              "mths_since_last_delinq     0\n",
              "mths_since_last_record     0\n",
              "open_acc                   0\n",
              "pub_rec                    0\n",
              "revol_bal                  0\n",
              "revol_util                 0\n",
              "total_acc                  0\n",
              "out_prncp                  0\n",
              "out_prncp_inv              0\n",
              "total_pymnt                0\n",
              "total_pymnt_inv            0\n",
              "total_rec_prncp            0\n",
              "total_rec_int              0\n",
              "total_rec_late_fee         0\n",
              "recoveries                 0\n",
              "collection_recovery_fee    0\n",
              "last_pymnt_amnt            0\n",
              "dtype: int64"
            ]
          },
          "metadata": {
            "tags": []
          },
          "execution_count": 13
        }
      ]
    },
    {
      "cell_type": "code",
      "metadata": {
        "id": "vV_Ged5xNSGb",
        "colab_type": "code",
        "colab": {}
      },
      "source": [
        "# Feature engineering\n",
        "data['installmentOverLoanAmnt'] = data.installment/data.loan_amnt\n",
        "data['loanAmntOverIncome'] = data.loan_amnt/data.annual_inc\n",
        "data['revol_balOverIncome'] = data.revol_bal/data.annual_inc\n",
        "data['totalPymntOverIncome'] = data.total_pymnt/data.annual_inc\n",
        "data['totalPymntInvOverIncome'] = data.total_pymnt_inv/data.annual_inc\n",
        "data['totalRecPrncpOverIncome'] = data.total_rec_prncp/data.annual_inc\n",
        "data['totalRecIncOverIncome'] = data.total_rec_int/data.annual_inc\n",
        "\n",
        "newFeats = ['installmentOverLoanAmnt','loanAmntOverIncome', \\\n",
        "            'revol_balOverIncome','totalPymntOverIncome', \\\n",
        "           'totalPymntInvOverIncome','totalRecPrncpOverIncome', \\\n",
        "            'totalRecIncOverIncome']"
      ],
      "execution_count": 0,
      "outputs": []
    },
    {
      "cell_type": "code",
      "metadata": {
        "id": "ESJ0e01INTuY",
        "colab_type": "code",
        "colab": {}
      },
      "source": [
        "# Select features for training\n",
        "numericalPlusNewFeats = numericalFeats+newFeats\n",
        "X_train = data.loc[:,numericalPlusNewFeats]\n",
        "\n",
        "# Scale data\n",
        "sX = pp.StandardScaler()\n",
        "X_train.loc[:,:] = sX.fit_transform(X_train)"
      ],
      "execution_count": 0,
      "outputs": []
    },
    {
      "cell_type": "code",
      "metadata": {
        "id": "u8eEulZENU4L",
        "colab_type": "code",
        "colab": {
          "base_uri": "https://localhost:8080/",
          "height": 204
        },
        "outputId": "c7efad09-1a12-49ba-d766-9bc2c4576a2f"
      },
      "source": [
        "X_train.columns"
      ],
      "execution_count": 16,
      "outputs": [
        {
          "output_type": "execute_result",
          "data": {
            "text/plain": [
              "Index(['loan_amnt', 'funded_amnt', 'funded_amnt_inv', 'term', 'int_rate',\n",
              "       'installment', 'emp_length', 'annual_inc', 'dti', 'delinq_2yrs',\n",
              "       'mths_since_last_delinq', 'mths_since_last_record', 'open_acc',\n",
              "       'pub_rec', 'revol_bal', 'revol_util', 'total_acc', 'out_prncp',\n",
              "       'out_prncp_inv', 'total_pymnt', 'total_pymnt_inv', 'total_rec_prncp',\n",
              "       'total_rec_int', 'total_rec_late_fee', 'recoveries',\n",
              "       'collection_recovery_fee', 'last_pymnt_amnt', 'installmentOverLoanAmnt',\n",
              "       'loanAmntOverIncome', 'revol_balOverIncome', 'totalPymntOverIncome',\n",
              "       'totalPymntInvOverIncome', 'totalRecPrncpOverIncome',\n",
              "       'totalRecIncOverIncome'],\n",
              "      dtype='object')"
            ]
          },
          "metadata": {
            "tags": []
          },
          "execution_count": 16
        }
      ]
    },
    {
      "cell_type": "code",
      "metadata": {
        "id": "jJlkbyLANWH1",
        "colab_type": "code",
        "colab": {
          "base_uri": "https://localhost:8080/",
          "height": 34
        },
        "outputId": "4a1024d4-cded-4ee0-c1be-90baf5f9f2a8"
      },
      "source": [
        "# Designate labels for evaluation\n",
        "labels = data.grade\n",
        "labels.unique()"
      ],
      "execution_count": 17,
      "outputs": [
        {
          "output_type": "execute_result",
          "data": {
            "text/plain": [
              "array(['B', 'C', 'A', 'E', 'F', 'D', 'G', nan], dtype=object)"
            ]
          },
          "metadata": {
            "tags": []
          },
          "execution_count": 17
        }
      ]
    },
    {
      "cell_type": "code",
      "metadata": {
        "id": "anty1wNaNXQZ",
        "colab_type": "code",
        "colab": {}
      },
      "source": [
        "# Fill missing labels\n",
        "labels = labels.fillna(value=\"Z\")\n",
        "\n",
        "# Convert labels to numerical values\n",
        "lbl = pp.LabelEncoder()\n",
        "lbl.fit(list(labels.values))\n",
        "labels = pd.Series(data=lbl.transform(labels.values), name=\"grade\")\n",
        "\n",
        "# Store as y_train\n",
        "y_train = labels"
      ],
      "execution_count": 0,
      "outputs": []
    },
    {
      "cell_type": "code",
      "metadata": {
        "id": "HV9svzUNNYbE",
        "colab_type": "code",
        "colab": {
          "base_uri": "https://localhost:8080/",
          "height": 1000
        },
        "outputId": "2bf6a2da-2fe2-48c6-8cce-446a12e57506"
      },
      "source": [
        "labelsOriginalVSNew = pd.concat([labels, data.grade],axis=1)\n",
        "labelsOriginalVSNew"
      ],
      "execution_count": 20,
      "outputs": [
        {
          "output_type": "execute_result",
          "data": {
            "text/html": [
              "<div>\n",
              "<style scoped>\n",
              "    .dataframe tbody tr th:only-of-type {\n",
              "        vertical-align: middle;\n",
              "    }\n",
              "\n",
              "    .dataframe tbody tr th {\n",
              "        vertical-align: top;\n",
              "    }\n",
              "\n",
              "    .dataframe thead th {\n",
              "        text-align: right;\n",
              "    }\n",
              "</style>\n",
              "<table border=\"1\" class=\"dataframe\">\n",
              "  <thead>\n",
              "    <tr style=\"text-align: right;\">\n",
              "      <th></th>\n",
              "      <th>grade</th>\n",
              "      <th>grade</th>\n",
              "    </tr>\n",
              "  </thead>\n",
              "  <tbody>\n",
              "    <tr>\n",
              "      <th>0</th>\n",
              "      <td>1</td>\n",
              "      <td>B</td>\n",
              "    </tr>\n",
              "    <tr>\n",
              "      <th>1</th>\n",
              "      <td>2</td>\n",
              "      <td>C</td>\n",
              "    </tr>\n",
              "    <tr>\n",
              "      <th>2</th>\n",
              "      <td>2</td>\n",
              "      <td>C</td>\n",
              "    </tr>\n",
              "    <tr>\n",
              "      <th>3</th>\n",
              "      <td>2</td>\n",
              "      <td>C</td>\n",
              "    </tr>\n",
              "    <tr>\n",
              "      <th>4</th>\n",
              "      <td>1</td>\n",
              "      <td>B</td>\n",
              "    </tr>\n",
              "    <tr>\n",
              "      <th>5</th>\n",
              "      <td>0</td>\n",
              "      <td>A</td>\n",
              "    </tr>\n",
              "    <tr>\n",
              "      <th>6</th>\n",
              "      <td>2</td>\n",
              "      <td>C</td>\n",
              "    </tr>\n",
              "    <tr>\n",
              "      <th>7</th>\n",
              "      <td>4</td>\n",
              "      <td>E</td>\n",
              "    </tr>\n",
              "    <tr>\n",
              "      <th>8</th>\n",
              "      <td>5</td>\n",
              "      <td>F</td>\n",
              "    </tr>\n",
              "    <tr>\n",
              "      <th>9</th>\n",
              "      <td>1</td>\n",
              "      <td>B</td>\n",
              "    </tr>\n",
              "    <tr>\n",
              "      <th>10</th>\n",
              "      <td>2</td>\n",
              "      <td>C</td>\n",
              "    </tr>\n",
              "    <tr>\n",
              "      <th>11</th>\n",
              "      <td>1</td>\n",
              "      <td>B</td>\n",
              "    </tr>\n",
              "    <tr>\n",
              "      <th>12</th>\n",
              "      <td>2</td>\n",
              "      <td>C</td>\n",
              "    </tr>\n",
              "    <tr>\n",
              "      <th>13</th>\n",
              "      <td>1</td>\n",
              "      <td>B</td>\n",
              "    </tr>\n",
              "    <tr>\n",
              "      <th>14</th>\n",
              "      <td>1</td>\n",
              "      <td>B</td>\n",
              "    </tr>\n",
              "    <tr>\n",
              "      <th>15</th>\n",
              "      <td>3</td>\n",
              "      <td>D</td>\n",
              "    </tr>\n",
              "    <tr>\n",
              "      <th>16</th>\n",
              "      <td>2</td>\n",
              "      <td>C</td>\n",
              "    </tr>\n",
              "    <tr>\n",
              "      <th>17</th>\n",
              "      <td>0</td>\n",
              "      <td>A</td>\n",
              "    </tr>\n",
              "    <tr>\n",
              "      <th>18</th>\n",
              "      <td>1</td>\n",
              "      <td>B</td>\n",
              "    </tr>\n",
              "    <tr>\n",
              "      <th>19</th>\n",
              "      <td>0</td>\n",
              "      <td>A</td>\n",
              "    </tr>\n",
              "    <tr>\n",
              "      <th>20</th>\n",
              "      <td>2</td>\n",
              "      <td>C</td>\n",
              "    </tr>\n",
              "    <tr>\n",
              "      <th>21</th>\n",
              "      <td>1</td>\n",
              "      <td>B</td>\n",
              "    </tr>\n",
              "    <tr>\n",
              "      <th>22</th>\n",
              "      <td>1</td>\n",
              "      <td>B</td>\n",
              "    </tr>\n",
              "    <tr>\n",
              "      <th>23</th>\n",
              "      <td>1</td>\n",
              "      <td>B</td>\n",
              "    </tr>\n",
              "    <tr>\n",
              "      <th>24</th>\n",
              "      <td>1</td>\n",
              "      <td>B</td>\n",
              "    </tr>\n",
              "    <tr>\n",
              "      <th>25</th>\n",
              "      <td>1</td>\n",
              "      <td>B</td>\n",
              "    </tr>\n",
              "    <tr>\n",
              "      <th>26</th>\n",
              "      <td>2</td>\n",
              "      <td>C</td>\n",
              "    </tr>\n",
              "    <tr>\n",
              "      <th>27</th>\n",
              "      <td>3</td>\n",
              "      <td>D</td>\n",
              "    </tr>\n",
              "    <tr>\n",
              "      <th>28</th>\n",
              "      <td>1</td>\n",
              "      <td>B</td>\n",
              "    </tr>\n",
              "    <tr>\n",
              "      <th>29</th>\n",
              "      <td>1</td>\n",
              "      <td>B</td>\n",
              "    </tr>\n",
              "    <tr>\n",
              "      <th>...</th>\n",
              "      <td>...</td>\n",
              "      <td>...</td>\n",
              "    </tr>\n",
              "    <tr>\n",
              "      <th>42512</th>\n",
              "      <td>1</td>\n",
              "      <td>B</td>\n",
              "    </tr>\n",
              "    <tr>\n",
              "      <th>42513</th>\n",
              "      <td>4</td>\n",
              "      <td>E</td>\n",
              "    </tr>\n",
              "    <tr>\n",
              "      <th>42514</th>\n",
              "      <td>0</td>\n",
              "      <td>A</td>\n",
              "    </tr>\n",
              "    <tr>\n",
              "      <th>42515</th>\n",
              "      <td>2</td>\n",
              "      <td>C</td>\n",
              "    </tr>\n",
              "    <tr>\n",
              "      <th>42516</th>\n",
              "      <td>1</td>\n",
              "      <td>B</td>\n",
              "    </tr>\n",
              "    <tr>\n",
              "      <th>42517</th>\n",
              "      <td>1</td>\n",
              "      <td>B</td>\n",
              "    </tr>\n",
              "    <tr>\n",
              "      <th>42518</th>\n",
              "      <td>2</td>\n",
              "      <td>C</td>\n",
              "    </tr>\n",
              "    <tr>\n",
              "      <th>42519</th>\n",
              "      <td>2</td>\n",
              "      <td>C</td>\n",
              "    </tr>\n",
              "    <tr>\n",
              "      <th>42520</th>\n",
              "      <td>4</td>\n",
              "      <td>E</td>\n",
              "    </tr>\n",
              "    <tr>\n",
              "      <th>42521</th>\n",
              "      <td>0</td>\n",
              "      <td>A</td>\n",
              "    </tr>\n",
              "    <tr>\n",
              "      <th>42522</th>\n",
              "      <td>0</td>\n",
              "      <td>A</td>\n",
              "    </tr>\n",
              "    <tr>\n",
              "      <th>42523</th>\n",
              "      <td>0</td>\n",
              "      <td>A</td>\n",
              "    </tr>\n",
              "    <tr>\n",
              "      <th>42524</th>\n",
              "      <td>0</td>\n",
              "      <td>A</td>\n",
              "    </tr>\n",
              "    <tr>\n",
              "      <th>42525</th>\n",
              "      <td>0</td>\n",
              "      <td>A</td>\n",
              "    </tr>\n",
              "    <tr>\n",
              "      <th>42526</th>\n",
              "      <td>3</td>\n",
              "      <td>D</td>\n",
              "    </tr>\n",
              "    <tr>\n",
              "      <th>42527</th>\n",
              "      <td>2</td>\n",
              "      <td>C</td>\n",
              "    </tr>\n",
              "    <tr>\n",
              "      <th>42528</th>\n",
              "      <td>2</td>\n",
              "      <td>C</td>\n",
              "    </tr>\n",
              "    <tr>\n",
              "      <th>42529</th>\n",
              "      <td>1</td>\n",
              "      <td>B</td>\n",
              "    </tr>\n",
              "    <tr>\n",
              "      <th>42530</th>\n",
              "      <td>1</td>\n",
              "      <td>B</td>\n",
              "    </tr>\n",
              "    <tr>\n",
              "      <th>42531</th>\n",
              "      <td>1</td>\n",
              "      <td>B</td>\n",
              "    </tr>\n",
              "    <tr>\n",
              "      <th>42532</th>\n",
              "      <td>1</td>\n",
              "      <td>B</td>\n",
              "    </tr>\n",
              "    <tr>\n",
              "      <th>42533</th>\n",
              "      <td>2</td>\n",
              "      <td>C</td>\n",
              "    </tr>\n",
              "    <tr>\n",
              "      <th>42534</th>\n",
              "      <td>1</td>\n",
              "      <td>B</td>\n",
              "    </tr>\n",
              "    <tr>\n",
              "      <th>42535</th>\n",
              "      <td>1</td>\n",
              "      <td>B</td>\n",
              "    </tr>\n",
              "    <tr>\n",
              "      <th>42536</th>\n",
              "      <td>0</td>\n",
              "      <td>A</td>\n",
              "    </tr>\n",
              "    <tr>\n",
              "      <th>42537</th>\n",
              "      <td>0</td>\n",
              "      <td>A</td>\n",
              "    </tr>\n",
              "    <tr>\n",
              "      <th>42538</th>\n",
              "      <td>7</td>\n",
              "      <td>NaN</td>\n",
              "    </tr>\n",
              "    <tr>\n",
              "      <th>42539</th>\n",
              "      <td>7</td>\n",
              "      <td>NaN</td>\n",
              "    </tr>\n",
              "    <tr>\n",
              "      <th>42540</th>\n",
              "      <td>7</td>\n",
              "      <td>NaN</td>\n",
              "    </tr>\n",
              "    <tr>\n",
              "      <th>42541</th>\n",
              "      <td>7</td>\n",
              "      <td>NaN</td>\n",
              "    </tr>\n",
              "  </tbody>\n",
              "</table>\n",
              "<p>42542 rows × 2 columns</p>\n",
              "</div>"
            ],
            "text/plain": [
              "      grade grade\n",
              "0         1     B\n",
              "1         2     C\n",
              "2         2     C\n",
              "3         2     C\n",
              "4         1     B\n",
              "5         0     A\n",
              "6         2     C\n",
              "7         4     E\n",
              "8         5     F\n",
              "9         1     B\n",
              "10        2     C\n",
              "11        1     B\n",
              "12        2     C\n",
              "13        1     B\n",
              "14        1     B\n",
              "15        3     D\n",
              "16        2     C\n",
              "17        0     A\n",
              "18        1     B\n",
              "19        0     A\n",
              "20        2     C\n",
              "21        1     B\n",
              "22        1     B\n",
              "23        1     B\n",
              "24        1     B\n",
              "25        1     B\n",
              "26        2     C\n",
              "27        3     D\n",
              "28        1     B\n",
              "29        1     B\n",
              "...     ...   ...\n",
              "42512     1     B\n",
              "42513     4     E\n",
              "42514     0     A\n",
              "42515     2     C\n",
              "42516     1     B\n",
              "42517     1     B\n",
              "42518     2     C\n",
              "42519     2     C\n",
              "42520     4     E\n",
              "42521     0     A\n",
              "42522     0     A\n",
              "42523     0     A\n",
              "42524     0     A\n",
              "42525     0     A\n",
              "42526     3     D\n",
              "42527     2     C\n",
              "42528     2     C\n",
              "42529     1     B\n",
              "42530     1     B\n",
              "42531     1     B\n",
              "42532     1     B\n",
              "42533     2     C\n",
              "42534     1     B\n",
              "42535     1     B\n",
              "42536     0     A\n",
              "42537     0     A\n",
              "42538     7   NaN\n",
              "42539     7   NaN\n",
              "42540     7   NaN\n",
              "42541     7   NaN\n",
              "\n",
              "[42542 rows x 2 columns]"
            ]
          },
          "metadata": {
            "tags": []
          },
          "execution_count": 20
        }
      ]
    },
    {
      "cell_type": "code",
      "metadata": {
        "id": "_-IHDJ3KNZwy",
        "colab_type": "code",
        "colab": {
          "base_uri": "https://localhost:8080/",
          "height": 328
        },
        "outputId": "4f5fd6c5-7986-4b4f-b9eb-19d0ab555477"
      },
      "source": [
        "# Compare loan grades with interest rates\n",
        "interestAndGrade = pd.DataFrame(data=[data.int_rate,labels])\n",
        "interestAndGrade = interestAndGrade.T\n",
        "\n",
        "interestAndGrade.groupby(\"grade\").mean()"
      ],
      "execution_count": 21,
      "outputs": [
        {
          "output_type": "execute_result",
          "data": {
            "text/html": [
              "<div>\n",
              "<style scoped>\n",
              "    .dataframe tbody tr th:only-of-type {\n",
              "        vertical-align: middle;\n",
              "    }\n",
              "\n",
              "    .dataframe tbody tr th {\n",
              "        vertical-align: top;\n",
              "    }\n",
              "\n",
              "    .dataframe thead th {\n",
              "        text-align: right;\n",
              "    }\n",
              "</style>\n",
              "<table border=\"1\" class=\"dataframe\">\n",
              "  <thead>\n",
              "    <tr style=\"text-align: right;\">\n",
              "      <th></th>\n",
              "      <th>int_rate</th>\n",
              "    </tr>\n",
              "    <tr>\n",
              "      <th>grade</th>\n",
              "      <th></th>\n",
              "    </tr>\n",
              "  </thead>\n",
              "  <tbody>\n",
              "    <tr>\n",
              "      <th>0.0</th>\n",
              "      <td>734.270844</td>\n",
              "    </tr>\n",
              "    <tr>\n",
              "      <th>1.0</th>\n",
              "      <td>1101.420857</td>\n",
              "    </tr>\n",
              "    <tr>\n",
              "      <th>2.0</th>\n",
              "      <td>1349.988902</td>\n",
              "    </tr>\n",
              "    <tr>\n",
              "      <th>3.0</th>\n",
              "      <td>1557.714927</td>\n",
              "    </tr>\n",
              "    <tr>\n",
              "      <th>4.0</th>\n",
              "      <td>1737.676783</td>\n",
              "    </tr>\n",
              "    <tr>\n",
              "      <th>5.0</th>\n",
              "      <td>1926.530361</td>\n",
              "    </tr>\n",
              "    <tr>\n",
              "      <th>6.0</th>\n",
              "      <td>2045.125000</td>\n",
              "    </tr>\n",
              "    <tr>\n",
              "      <th>7.0</th>\n",
              "      <td>1216.501563</td>\n",
              "    </tr>\n",
              "  </tbody>\n",
              "</table>\n",
              "</div>"
            ],
            "text/plain": [
              "          int_rate\n",
              "grade             \n",
              "0.0     734.270844\n",
              "1.0    1101.420857\n",
              "2.0    1349.988902\n",
              "3.0    1557.714927\n",
              "4.0    1737.676783\n",
              "5.0    1926.530361\n",
              "6.0    2045.125000\n",
              "7.0    1216.501563"
            ]
          },
          "metadata": {
            "tags": []
          },
          "execution_count": 21
        }
      ]
    },
    {
      "cell_type": "code",
      "metadata": {
        "id": "OT1084FINfGp",
        "colab_type": "code",
        "colab": {}
      },
      "source": [
        "# Goodness of the Clusters\n",
        "\n",
        "def analyzeCluster(clusterDF, labelsDF):\n",
        "    countByCluster = \\\n",
        "        pd.DataFrame(data=clusterDF['cluster'].value_counts())\n",
        "    countByCluster.reset_index(inplace=True,drop=False)\n",
        "    countByCluster.columns = ['cluster','clusterCount']\n",
        "        \n",
        "    preds = pd.concat([labelsDF,clusterDF], axis=1)\n",
        "    preds.columns = ['trueLabel','cluster']\n",
        "    \n",
        "    countByLabel = pd.DataFrame(data=preds.groupby('trueLabel').count())\n",
        "        \n",
        "    countMostFreq = pd.DataFrame(data=preds.groupby('cluster').agg( \\\n",
        "        lambda x:x.value_counts().iloc[0]))\n",
        "    countMostFreq.reset_index(inplace=True,drop=False)\n",
        "    countMostFreq.columns = ['cluster','countMostFrequent']\n",
        "    \n",
        "    accuracyDF = countMostFreq.merge(countByCluster, \\\n",
        "        left_on=\"cluster\",right_on=\"cluster\")\n",
        "    \n",
        "    overallAccuracy = accuracyDF.countMostFrequent.sum()/ \\\n",
        "        accuracyDF.clusterCount.sum()\n",
        "    \n",
        "    accuracyByLabel = accuracyDF.countMostFrequent/ \\\n",
        "        accuracyDF.clusterCount\n",
        "    \n",
        "    return countByCluster, countByLabel, countMostFreq, \\\n",
        "        accuracyDF, overallAccuracy, accuracyByLabel"
      ],
      "execution_count": 0,
      "outputs": []
    },
    {
      "cell_type": "code",
      "metadata": {
        "id": "RLrTwsc4NibH",
        "colab_type": "code",
        "colab": {
          "base_uri": "https://localhost:8080/",
          "height": 51
        },
        "outputId": "15ff477c-2d42-45d0-be24-c07227d7c259"
      },
      "source": [
        "%%time\n",
        "\n",
        "# K-means Application\n",
        "\n",
        "from sklearn.cluster import KMeans\n",
        "\n",
        "n_clusters = 10\n",
        "n_init = 10\n",
        "max_iter = 300\n",
        "tol = 0.0001\n",
        "random_state = 2018\n",
        "n_jobs = 2\n",
        "\n",
        "kmeans = KMeans(n_clusters=n_clusters, n_init=n_init, \\\n",
        "                max_iter=max_iter, tol=tol, \\\n",
        "                random_state=random_state, n_jobs=n_jobs)\n",
        "\n",
        "kMeans_inertia = pd.DataFrame(data=[],index=range(10,31), \\\n",
        "                              columns=['inertia'])\n",
        "\n",
        "overallAccuracy_kMeansDF = pd.DataFrame(data=[], \\\n",
        "    index=range(10,31),columns=['overallAccuracy'])\n",
        "\n",
        "for n_clusters in range(10,31):\n",
        "    kmeans = KMeans(n_clusters=n_clusters, n_init=n_init, \\\n",
        "                    max_iter=max_iter, tol=tol, \\\n",
        "                    random_state=random_state, n_jobs=n_jobs)\n",
        "\n",
        "    kmeans.fit(X_train)\n",
        "    kMeans_inertia.loc[n_clusters] = kmeans.inertia_\n",
        "    X_train_kmeansClustered = kmeans.predict(X_train)\n",
        "    X_train_kmeansClustered = pd.DataFrame(data= \\\n",
        "        X_train_kmeansClustered, index=X_train.index, \\\n",
        "        columns=['cluster'])\n",
        "    \n",
        "    countByCluster_kMeans, countByLabel_kMeans, \\\n",
        "    countMostFreq_kMeans, accuracyDF_kMeans, \\\n",
        "    overallAccuracy_kMeans, accuracyByLabel_kMeans = \\\n",
        "    analyzeCluster(X_train_kmeansClustered, y_train)\n",
        "    \n",
        "    overallAccuracy_kMeansDF.loc[n_clusters] = \\\n",
        "        overallAccuracy_kMeans"
      ],
      "execution_count": 23,
      "outputs": [
        {
          "output_type": "stream",
          "text": [
            "CPU times: user 4.05 s, sys: 2.35 s, total: 6.4 s\n",
            "Wall time: 5min 6s\n"
          ],
          "name": "stdout"
        }
      ]
    },
    {
      "cell_type": "code",
      "metadata": {
        "id": "WuG1_9izNmSB",
        "colab_type": "code",
        "colab": {
          "base_uri": "https://localhost:8080/",
          "height": 269
        },
        "outputId": "9d3208c5-291c-46f3-e17c-78e217654675"
      },
      "source": [
        "overallAccuracy_kMeansDF.plot();"
      ],
      "execution_count": 24,
      "outputs": [
        {
          "output_type": "display_data",
          "data": {
            "image/png": "[encoded data removed]",
            "text/plain": [
              "<Figure size 432x288 with 1 Axes>"
            ]
          },
          "metadata": {
            "tags": []
          }
        }
      ]
    },
    {
      "cell_type": "code",
      "metadata": {
        "id": "Z_F-5044NodV",
        "colab_type": "code",
        "colab": {
          "base_uri": "https://localhost:8080/",
          "height": 544
        },
        "outputId": "fed7b2c1-46ce-4198-8468-b22f37909db8"
      },
      "source": [
        "accuracyByLabel_kMeans"
      ],
      "execution_count": 25,
      "outputs": [
        {
          "output_type": "execute_result",
          "data": {
            "text/plain": [
              "0     0.326633\n",
              "1     0.258993\n",
              "2     0.292240\n",
              "3     0.234242\n",
              "4     0.388794\n",
              "5     0.325654\n",
              "6     0.303797\n",
              "7     0.762116\n",
              "8     0.222222\n",
              "9     0.391381\n",
              "10    0.292910\n",
              "11    0.317533\n",
              "12    0.206897\n",
              "13    0.312709\n",
              "14    0.345233\n",
              "15    0.682208\n",
              "16    0.327250\n",
              "17    0.366605\n",
              "18    0.234783\n",
              "19    0.288757\n",
              "20    0.500000\n",
              "21    0.375466\n",
              "22    0.332203\n",
              "23    0.252252\n",
              "24    0.338509\n",
              "25    0.232000\n",
              "26    0.464418\n",
              "27    0.261583\n",
              "28    0.376327\n",
              "29    0.269129\n",
              "dtype: float64"
            ]
          },
          "metadata": {
            "tags": []
          },
          "execution_count": 25
        }
      ]
    },
    {
      "cell_type": "code",
      "metadata": {
        "id": "TFOu8GuYNqIb",
        "colab_type": "code",
        "colab": {
          "base_uri": "https://localhost:8080/",
          "height": 51
        },
        "outputId": "dcf9ec48-f451-4a1b-c02f-f11602079ad4"
      },
      "source": [
        "%%time \n",
        "\n",
        "# Hierarchical Clustering Application\n",
        "\n",
        "import fastcluster\n",
        "from scipy.cluster.hierarchy import dendrogram\n",
        "from scipy.cluster.hierarchy import cophenet\n",
        "from scipy.spatial.distance import pdist\n",
        "\n",
        "Z = fastcluster.linkage_vector(X_train, method='ward', \\\n",
        "                               metric='euclidean')\n",
        "\n",
        "Z_dataFrame = pd.DataFrame(data=Z,columns=['clusterOne', \\\n",
        "                'clusterTwo','distance','newClusterSize'])"
      ],
      "execution_count": 26,
      "outputs": [
        {
          "output_type": "stream",
          "text": [
            "CPU times: user 1min 37s, sys: 0 ns, total: 1min 37s\n",
            "Wall time: 1min 37s\n"
          ],
          "name": "stdout"
        }
      ]
    },
    {
      "cell_type": "code",
      "metadata": {
        "id": "Y725EkonNt4y",
        "colab_type": "code",
        "colab": {
          "base_uri": "https://localhost:8080/",
          "height": 669
        },
        "outputId": "02c160b3-f657-4a07-a388-5c0ced8ec533"
      },
      "source": [
        "Z_dataFrame[:20]"
      ],
      "execution_count": 27,
      "outputs": [
        {
          "output_type": "execute_result",
          "data": {
            "text/html": [
              "<div>\n",
              "<style scoped>\n",
              "    .dataframe tbody tr th:only-of-type {\n",
              "        vertical-align: middle;\n",
              "    }\n",
              "\n",
              "    .dataframe tbody tr th {\n",
              "        vertical-align: top;\n",
              "    }\n",
              "\n",
              "    .dataframe thead th {\n",
              "        text-align: right;\n",
              "    }\n",
              "</style>\n",
              "<table border=\"1\" class=\"dataframe\">\n",
              "  <thead>\n",
              "    <tr style=\"text-align: right;\">\n",
              "      <th></th>\n",
              "      <th>clusterOne</th>\n",
              "      <th>clusterTwo</th>\n",
              "      <th>distance</th>\n",
              "      <th>newClusterSize</th>\n",
              "    </tr>\n",
              "  </thead>\n",
              "  <tbody>\n",
              "    <tr>\n",
              "      <th>0</th>\n",
              "      <td>39786.0</td>\n",
              "      <td>39787.0</td>\n",
              "      <td>0.000000e+00</td>\n",
              "      <td>2.0</td>\n",
              "    </tr>\n",
              "    <tr>\n",
              "      <th>1</th>\n",
              "      <td>39788.0</td>\n",
              "      <td>42542.0</td>\n",
              "      <td>0.000000e+00</td>\n",
              "      <td>3.0</td>\n",
              "    </tr>\n",
              "    <tr>\n",
              "      <th>2</th>\n",
              "      <td>42538.0</td>\n",
              "      <td>42539.0</td>\n",
              "      <td>0.000000e+00</td>\n",
              "      <td>2.0</td>\n",
              "    </tr>\n",
              "    <tr>\n",
              "      <th>3</th>\n",
              "      <td>42540.0</td>\n",
              "      <td>42544.0</td>\n",
              "      <td>0.000000e+00</td>\n",
              "      <td>3.0</td>\n",
              "    </tr>\n",
              "    <tr>\n",
              "      <th>4</th>\n",
              "      <td>42541.0</td>\n",
              "      <td>42545.0</td>\n",
              "      <td>3.399350e-17</td>\n",
              "      <td>4.0</td>\n",
              "    </tr>\n",
              "    <tr>\n",
              "      <th>5</th>\n",
              "      <td>42543.0</td>\n",
              "      <td>42546.0</td>\n",
              "      <td>5.139334e-17</td>\n",
              "      <td>7.0</td>\n",
              "    </tr>\n",
              "    <tr>\n",
              "      <th>6</th>\n",
              "      <td>33251.0</td>\n",
              "      <td>33261.0</td>\n",
              "      <td>1.561313e-01</td>\n",
              "      <td>2.0</td>\n",
              "    </tr>\n",
              "    <tr>\n",
              "      <th>7</th>\n",
              "      <td>42512.0</td>\n",
              "      <td>42535.0</td>\n",
              "      <td>3.342654e-01</td>\n",
              "      <td>2.0</td>\n",
              "    </tr>\n",
              "    <tr>\n",
              "      <th>8</th>\n",
              "      <td>42219.0</td>\n",
              "      <td>42316.0</td>\n",
              "      <td>3.368231e-01</td>\n",
              "      <td>2.0</td>\n",
              "    </tr>\n",
              "    <tr>\n",
              "      <th>9</th>\n",
              "      <td>6112.0</td>\n",
              "      <td>21928.0</td>\n",
              "      <td>3.384368e-01</td>\n",
              "      <td>2.0</td>\n",
              "    </tr>\n",
              "    <tr>\n",
              "      <th>10</th>\n",
              "      <td>33248.0</td>\n",
              "      <td>33275.0</td>\n",
              "      <td>3.583819e-01</td>\n",
              "      <td>2.0</td>\n",
              "    </tr>\n",
              "    <tr>\n",
              "      <th>11</th>\n",
              "      <td>33253.0</td>\n",
              "      <td>33265.0</td>\n",
              "      <td>3.595331e-01</td>\n",
              "      <td>2.0</td>\n",
              "    </tr>\n",
              "    <tr>\n",
              "      <th>12</th>\n",
              "      <td>33258.0</td>\n",
              "      <td>42552.0</td>\n",
              "      <td>3.719377e-01</td>\n",
              "      <td>3.0</td>\n",
              "    </tr>\n",
              "    <tr>\n",
              "      <th>13</th>\n",
              "      <td>20430.0</td>\n",
              "      <td>23299.0</td>\n",
              "      <td>3.757307e-01</td>\n",
              "      <td>2.0</td>\n",
              "    </tr>\n",
              "    <tr>\n",
              "      <th>14</th>\n",
              "      <td>5455.0</td>\n",
              "      <td>32845.0</td>\n",
              "      <td>3.828709e-01</td>\n",
              "      <td>2.0</td>\n",
              "    </tr>\n",
              "    <tr>\n",
              "      <th>15</th>\n",
              "      <td>28615.0</td>\n",
              "      <td>30306.0</td>\n",
              "      <td>3.900294e-01</td>\n",
              "      <td>2.0</td>\n",
              "    </tr>\n",
              "    <tr>\n",
              "      <th>16</th>\n",
              "      <td>9056.0</td>\n",
              "      <td>9769.0</td>\n",
              "      <td>3.967378e-01</td>\n",
              "      <td>2.0</td>\n",
              "    </tr>\n",
              "    <tr>\n",
              "      <th>17</th>\n",
              "      <td>11162.0</td>\n",
              "      <td>13857.0</td>\n",
              "      <td>3.991124e-01</td>\n",
              "      <td>2.0</td>\n",
              "    </tr>\n",
              "    <tr>\n",
              "      <th>18</th>\n",
              "      <td>33270.0</td>\n",
              "      <td>42548.0</td>\n",
              "      <td>3.995620e-01</td>\n",
              "      <td>3.0</td>\n",
              "    </tr>\n",
              "    <tr>\n",
              "      <th>19</th>\n",
              "      <td>17422.0</td>\n",
              "      <td>17986.0</td>\n",
              "      <td>4.061704e-01</td>\n",
              "      <td>2.0</td>\n",
              "    </tr>\n",
              "  </tbody>\n",
              "</table>\n",
              "</div>"
            ],
            "text/plain": [
              "    clusterOne  clusterTwo      distance  newClusterSize\n",
              "0      39786.0     39787.0  0.000000e+00             2.0\n",
              "1      39788.0     42542.0  0.000000e+00             3.0\n",
              "2      42538.0     42539.0  0.000000e+00             2.0\n",
              "3      42540.0     42544.0  0.000000e+00             3.0\n",
              "4      42541.0     42545.0  3.399350e-17             4.0\n",
              "5      42543.0     42546.0  5.139334e-17             7.0\n",
              "6      33251.0     33261.0  1.561313e-01             2.0\n",
              "7      42512.0     42535.0  3.342654e-01             2.0\n",
              "8      42219.0     42316.0  3.368231e-01             2.0\n",
              "9       6112.0     21928.0  3.384368e-01             2.0\n",
              "10     33248.0     33275.0  3.583819e-01             2.0\n",
              "11     33253.0     33265.0  3.595331e-01             2.0\n",
              "12     33258.0     42552.0  3.719377e-01             3.0\n",
              "13     20430.0     23299.0  3.757307e-01             2.0\n",
              "14      5455.0     32845.0  3.828709e-01             2.0\n",
              "15     28615.0     30306.0  3.900294e-01             2.0\n",
              "16      9056.0      9769.0  3.967378e-01             2.0\n",
              "17     11162.0     13857.0  3.991124e-01             2.0\n",
              "18     33270.0     42548.0  3.995620e-01             3.0\n",
              "19     17422.0     17986.0  4.061704e-01             2.0"
            ]
          },
          "metadata": {
            "tags": []
          },
          "execution_count": 27
        }
      ]
    },
    {
      "cell_type": "code",
      "metadata": {
        "id": "IfuCZY4ANwI-",
        "colab_type": "code",
        "colab": {}
      },
      "source": [
        "from scipy.cluster.hierarchy import fcluster\n",
        "\n",
        "distance_threshold = 100\n",
        "clusters = fcluster(Z, distance_threshold, criterion='distance')\n",
        "X_train_hierClustered = pd.DataFrame(data=clusters, \\\n",
        "    index=X_train.index,columns=['cluster'])"
      ],
      "execution_count": 0,
      "outputs": []
    },
    {
      "cell_type": "code",
      "metadata": {
        "id": "pQZo8eTENxz5",
        "colab_type": "code",
        "colab": {
          "base_uri": "https://localhost:8080/",
          "height": 34
        },
        "outputId": "8ae42ecb-06d5-474f-d08e-ab7985c230b6"
      },
      "source": [
        "print(\"Number of distinct clusters: \", \\\n",
        "      len(X_train_hierClustered['cluster'].unique()))"
      ],
      "execution_count": 29,
      "outputs": [
        {
          "output_type": "stream",
          "text": [
            "Number of distinct clusters:  32\n"
          ],
          "name": "stdout"
        }
      ]
    },
    {
      "cell_type": "code",
      "metadata": {
        "id": "lq6afvgCNzRb",
        "colab_type": "code",
        "colab": {
          "base_uri": "https://localhost:8080/",
          "height": 34
        },
        "outputId": "b7cf8885-41da-4f4a-d94c-be0d609d6d66"
      },
      "source": [
        "countByCluster_hierClust, countByLabel_hierClust, \\\n",
        "    countMostFreq_hierClust, accuracyDF_hierClust, \\\n",
        "    overallAccuracy_hierClust, accuracyByLabel_hierClust = \\\n",
        "    analyzeCluster(X_train_hierClustered, y_train)\n",
        "\n",
        "print(\"Overall accuracy from hierarchical clustering: \", \\\n",
        "      overallAccuracy_hierClust)"
      ],
      "execution_count": 30,
      "outputs": [
        {
          "output_type": "stream",
          "text": [
            "Overall accuracy from hierarchical clustering:  0.3651685393258427\n"
          ],
          "name": "stdout"
        }
      ]
    },
    {
      "cell_type": "code",
      "metadata": {
        "id": "gJY9ZWhfN0hr",
        "colab_type": "code",
        "colab": {
          "base_uri": "https://localhost:8080/",
          "height": 595
        },
        "outputId": "bf75c878-bced-4a23-8b17-a7951c2d797b"
      },
      "source": [
        "print(\"Accuracy by cluster for hierarchical clustering\")\n",
        "accuracyByLabel_hierClust"
      ],
      "execution_count": 31,
      "outputs": [
        {
          "output_type": "stream",
          "text": [
            "Accuracy by cluster for hierarchical clustering\n"
          ],
          "name": "stdout"
        },
        {
          "output_type": "execute_result",
          "data": {
            "text/plain": [
              "0     0.304124\n",
              "1     0.219001\n",
              "2     0.228311\n",
              "3     0.379722\n",
              "4     0.240064\n",
              "5     0.272011\n",
              "6     0.314560\n",
              "7     0.263930\n",
              "8     0.246138\n",
              "9     0.318942\n",
              "10    0.302752\n",
              "11    0.269772\n",
              "12    0.335717\n",
              "13    0.330403\n",
              "14    0.346320\n",
              "15    0.440141\n",
              "16    0.744155\n",
              "17    0.502227\n",
              "18    0.294118\n",
              "19    0.236111\n",
              "20    0.254727\n",
              "21    0.241042\n",
              "22    0.317979\n",
              "23    0.308771\n",
              "24    0.284314\n",
              "25    0.243243\n",
              "26    0.500000\n",
              "27    0.289157\n",
              "28    0.365283\n",
              "29    0.479693\n",
              "30    0.393559\n",
              "31    0.340875\n",
              "dtype: float64"
            ]
          },
          "metadata": {
            "tags": []
          },
          "execution_count": 31
        }
      ]
    },
    {
      "cell_type": "code",
      "metadata": {
        "id": "yTzpMnZGPUY5",
        "colab_type": "code",
        "colab": {
          "base_uri": "https://localhost:8080/",
          "height": 343
        },
        "outputId": "6d22ef1d-9e2f-475a-9954-e0db730d1702"
      },
      "source": [
        "!pip install hdbscan"
      ],
      "execution_count": 33,
      "outputs": [
        {
          "output_type": "stream",
          "text": [
            "Collecting hdbscan\n",
            "\u001b[?25l  Downloading https://files.pythonhosted.org/packages/10/7c/1401ec61b0e7392287e045b6913206cfff050b65d869c19f7ec0f5626487/hdbscan-0.8.22.tar.gz (4.0MB)\n",
            "\u001b[K     |████████████████████████████████| 4.0MB 4.8MB/s \n",
            "\u001b[?25h  Installing build dependencies ... \u001b[?25l\u001b[?25hdone\n",
            "  Getting requirements to build wheel ... \u001b[?25l\u001b[?25hdone\n",
            "    Preparing wheel metadata ... \u001b[?25l\u001b[?25hdone\n",
            "Requirement already satisfied: numpy>=1.16.0 in /usr/local/lib/python3.6/dist-packages (from hdbscan) (1.16.5)\n",
            "Requirement already satisfied: scikit-learn>=0.17 in /usr/local/lib/python3.6/dist-packages (from hdbscan) (0.21.3)\n",
            "Requirement already satisfied: scipy>=0.9 in /usr/local/lib/python3.6/dist-packages (from hdbscan) (1.3.1)\n",
            "Requirement already satisfied: joblib in /usr/local/lib/python3.6/dist-packages (from hdbscan) (0.13.2)\n",
            "Requirement already satisfied: cython>=0.27 in /usr/local/lib/python3.6/dist-packages (from hdbscan) (0.29.13)\n",
            "Building wheels for collected packages: hdbscan\n",
            "  Building wheel for hdbscan (PEP 517) ... \u001b[?25l\u001b[?25hdone\n",
            "  Created wheel for hdbscan: filename=hdbscan-0.8.22-cp36-cp36m-linux_x86_64.whl size=2336917 sha256=18d381512ead9bd8fbd874cca245d4a6420c0c12d68dfed7ce63b23b9a29098e\n",
            "  Stored in directory: /root/.cache/pip/wheels/6d/f9/db/f2e5e704427932f5b05c91fc520effbb0bd10ba8d73fd3bfc7\n",
            "Successfully built hdbscan\n",
            "Installing collected packages: hdbscan\n",
            "Successfully installed hdbscan-0.8.22\n"
          ],
          "name": "stdout"
        }
      ]
    },
    {
      "cell_type": "code",
      "metadata": {
        "id": "eRptBMEyN1_O",
        "colab_type": "code",
        "colab": {
          "base_uri": "https://localhost:8080/",
          "height": 105
        },
        "outputId": "e792bc6c-997b-4d28-d441-97d75b42ab39"
      },
      "source": [
        "# HDBSCAN Application\n",
        "\n",
        "import hdbscan\n",
        "\n",
        "min_cluster_size = 20\n",
        "min_samples = 20\n",
        "alpha = 1.0\n",
        "cluster_selection_method = 'leaf'\n",
        "\n",
        "hdb = hdbscan.HDBSCAN(min_cluster_size=min_cluster_size, \\\n",
        "    min_samples=min_samples, alpha=alpha, \\\n",
        "    cluster_selection_method=cluster_selection_method)\n",
        "\n",
        "X_train_hdbscanClustered = hdb.fit_predict(X_train)\n",
        "X_train_hdbscanClustered = pd.DataFrame(data= \\\n",
        "    X_train_hdbscanClustered, index=X_train.index, \\\n",
        "    columns=['cluster'])\n",
        "\n",
        "countByCluster_hdbscan, countByLabel_hdbscan, \\\n",
        "    countMostFreq_hdbscan, accuracyDF_hdbscan, \\\n",
        "    overallAccuracy_hdbscan, accuracyByLabel_hdbscan = \\\n",
        "    analyzeCluster(X_train_hdbscanClustered, y_train)"
      ],
      "execution_count": 34,
      "outputs": [
        {
          "output_type": "stream",
          "text": [
            "/usr/local/lib/python3.6/dist-packages/sklearn/externals/six.py:31: DeprecationWarning: The module is deprecated in version 0.21 and will be removed in version 0.23 since we've dropped support for Python 2.7. Please rely on the official version of six (https://pypi.org/project/six/).\n",
            "  \"(https://pypi.org/project/six/).\", DeprecationWarning)\n",
            "/usr/local/lib/python3.6/dist-packages/sklearn/externals/joblib/__init__.py:15: DeprecationWarning: sklearn.externals.joblib is deprecated in 0.21 and will be removed in 0.23. Please import this functionality directly from joblib, which can be installed with: pip install joblib. If this warning is raised when loading pickled models, you may need to re-serialize those models with scikit-learn 0.21+.\n",
            "  warnings.warn(msg, category=DeprecationWarning)\n"
          ],
          "name": "stderr"
        }
      ]
    },
    {
      "cell_type": "code",
      "metadata": {
        "id": "AbpIbi4MN4mU",
        "colab_type": "code",
        "colab": {
          "base_uri": "https://localhost:8080/",
          "height": 34
        },
        "outputId": "40682661-755b-44a6-de34-067cef015a92"
      },
      "source": [
        "print(\"Overall accuracy from HDBSCAN: \", overallAccuracy_hdbscan)"
      ],
      "execution_count": 35,
      "outputs": [
        {
          "output_type": "stream",
          "text": [
            "Overall accuracy from HDBSCAN:  0.3246203751586667\n"
          ],
          "name": "stdout"
        }
      ]
    },
    {
      "cell_type": "code",
      "metadata": {
        "id": "AFnN7pPxN5_x",
        "colab_type": "code",
        "colab": {
          "base_uri": "https://localhost:8080/",
          "height": 345
        },
        "outputId": "9d5caf32-0ef5-4c3e-85c8-5bba4b338d24"
      },
      "source": [
        "print(\"Cluster results for HDBSCAN\")\n",
        "countByCluster_hdbscan"
      ],
      "execution_count": 36,
      "outputs": [
        {
          "output_type": "stream",
          "text": [
            "Cluster results for HDBSCAN\n"
          ],
          "name": "stdout"
        },
        {
          "output_type": "execute_result",
          "data": {
            "text/html": [
              "<div>\n",
              "<style scoped>\n",
              "    .dataframe tbody tr th:only-of-type {\n",
              "        vertical-align: middle;\n",
              "    }\n",
              "\n",
              "    .dataframe tbody tr th {\n",
              "        vertical-align: top;\n",
              "    }\n",
              "\n",
              "    .dataframe thead th {\n",
              "        text-align: right;\n",
              "    }\n",
              "</style>\n",
              "<table border=\"1\" class=\"dataframe\">\n",
              "  <thead>\n",
              "    <tr style=\"text-align: right;\">\n",
              "      <th></th>\n",
              "      <th>cluster</th>\n",
              "      <th>clusterCount</th>\n",
              "    </tr>\n",
              "  </thead>\n",
              "  <tbody>\n",
              "    <tr>\n",
              "      <th>0</th>\n",
              "      <td>-1</td>\n",
              "      <td>32708</td>\n",
              "    </tr>\n",
              "    <tr>\n",
              "      <th>1</th>\n",
              "      <td>7</td>\n",
              "      <td>4070</td>\n",
              "    </tr>\n",
              "    <tr>\n",
              "      <th>2</th>\n",
              "      <td>2</td>\n",
              "      <td>3668</td>\n",
              "    </tr>\n",
              "    <tr>\n",
              "      <th>3</th>\n",
              "      <td>1</td>\n",
              "      <td>1096</td>\n",
              "    </tr>\n",
              "    <tr>\n",
              "      <th>4</th>\n",
              "      <td>4</td>\n",
              "      <td>773</td>\n",
              "    </tr>\n",
              "    <tr>\n",
              "      <th>5</th>\n",
              "      <td>0</td>\n",
              "      <td>120</td>\n",
              "    </tr>\n",
              "    <tr>\n",
              "      <th>6</th>\n",
              "      <td>6</td>\n",
              "      <td>49</td>\n",
              "    </tr>\n",
              "    <tr>\n",
              "      <th>7</th>\n",
              "      <td>3</td>\n",
              "      <td>38</td>\n",
              "    </tr>\n",
              "    <tr>\n",
              "      <th>8</th>\n",
              "      <td>5</td>\n",
              "      <td>20</td>\n",
              "    </tr>\n",
              "  </tbody>\n",
              "</table>\n",
              "</div>"
            ],
            "text/plain": [
              "   cluster  clusterCount\n",
              "0       -1         32708\n",
              "1        7          4070\n",
              "2        2          3668\n",
              "3        1          1096\n",
              "4        4           773\n",
              "5        0           120\n",
              "6        6            49\n",
              "7        3            38\n",
              "8        5            20"
            ]
          },
          "metadata": {
            "tags": []
          },
          "execution_count": 36
        }
      ]
    },
    {
      "cell_type": "code",
      "metadata": {
        "id": "Ubqoq5qhN7OK",
        "colab_type": "code",
        "colab": {
          "base_uri": "https://localhost:8080/",
          "height": 187
        },
        "outputId": "bf1fe9fc-c434-4d44-bfef-f601199a72e7"
      },
      "source": [
        "accuracyByLabel_hdbscan"
      ],
      "execution_count": 37,
      "outputs": [
        {
          "output_type": "execute_result",
          "data": {
            "text/plain": [
              "0    0.284487\n",
              "1    0.341667\n",
              "2    0.414234\n",
              "3    0.332061\n",
              "4    0.552632\n",
              "5    0.438551\n",
              "6    0.400000\n",
              "7    0.408163\n",
              "8    0.590663\n",
              "dtype: float64"
            ]
          },
          "metadata": {
            "tags": []
          },
          "execution_count": 37
        }
      ]
    },
    {
      "cell_type": "code",
      "metadata": {
        "id": "NlhfQK72N8yY",
        "colab_type": "code",
        "colab": {}
      },
      "source": [
        ""
      ],
      "execution_count": 0,
      "outputs": []
    }
  ]
}